{
 "cells": [
  {
   "cell_type": "markdown",
   "metadata": {
    "colab": {
     "base_uri": "https://localhost:8080/"
    },
    "executionInfo": {
     "elapsed": 363,
     "status": "ok",
     "timestamp": 1637343491200,
     "user": {
      "displayName": "DATA MIMING",
      "photoUrl": "https://lh3.googleusercontent.com/a/default-user=s64",
      "userId": "13943601287099034839"
     },
     "user_tz": -330
    },
    "id": "VZwXgO4fMqM9",
    "outputId": "2fc0753a-06d2-4f44-de12-dad1f51a2233"
   },
   "source": [
    "# Study the Impact of Electric Vehicles on Indian Economy"
   ]
  },
  {
   "cell_type": "markdown",
   "metadata": {
    "id": "YmyYSBDmMgPz"
   },
   "source": [
    "### **Importing required libraries**"
   ]
  },
  {
   "cell_type": "code",
   "execution_count": 1,
   "metadata": {
    "executionInfo": {
     "elapsed": 586,
     "status": "ok",
     "timestamp": 1637343492581,
     "user": {
      "displayName": "DATA MIMING",
      "photoUrl": "https://lh3.googleusercontent.com/a/default-user=s64",
      "userId": "13943601287099034839"
     },
     "user_tz": -330
    },
    "id": "vnd89EvsjoO3"
   },
   "outputs": [],
   "source": [
    "import pandas as pd\n",
    "import numpy as np\n",
    "import matplotlib.pyplot as plt\n",
    "from sklearn.model_selection import train_test_split\n",
    "from sklearn import linear_model\n",
    "from sklearn.metrics import mean_squared_error, r2_score"
   ]
  },
  {
   "cell_type": "markdown",
   "metadata": {
    "id": "1jz1UuHWNahk"
   },
   "source": [
    "### **Data Gathering & Preprossing**"
   ]
  },
  {
   "cell_type": "code",
   "execution_count": 2,
   "metadata": {
    "colab": {
     "base_uri": "https://localhost:8080/",
     "height": 330
    },
    "executionInfo": {
     "elapsed": 3110,
     "status": "ok",
     "timestamp": 1637343495687,
     "user": {
      "displayName": "DATA MIMING",
      "photoUrl": "https://lh3.googleusercontent.com/a/default-user=s64",
      "userId": "13943601287099034839"
     },
     "user_tz": -330
    },
    "id": "lw9SGkJWNsWC",
    "outputId": "6f544dad-9cc5-4d51-d449-36560c9bac38"
   },
   "outputs": [
    {
     "name": "stderr",
     "output_type": "stream",
     "text": [
      "/opt/anaconda3/lib/python3.8/site-packages/openpyxl/styles/stylesheet.py:221: UserWarning: Workbook contains no default style, apply openpyxl's default\n",
      "  warn(\"Workbook contains no default style, apply openpyxl's default\")\n"
     ]
    },
    {
     "data": {
      "text/html": [
       "<div>\n",
       "<style scoped>\n",
       "    .dataframe tbody tr th:only-of-type {\n",
       "        vertical-align: middle;\n",
       "    }\n",
       "\n",
       "    .dataframe tbody tr th {\n",
       "        vertical-align: top;\n",
       "    }\n",
       "\n",
       "    .dataframe thead th {\n",
       "        text-align: right;\n",
       "    }\n",
       "</style>\n",
       "<table border=\"1\" class=\"dataframe\">\n",
       "  <thead>\n",
       "    <tr style=\"text-align: right;\">\n",
       "      <th></th>\n",
       "      <th>Vehicle Class</th>\n",
       "      <th>CNG ONLY</th>\n",
       "      <th>DIESEL</th>\n",
       "      <th>DIESEL/HYBRID</th>\n",
       "      <th>DUAL DIESEL/BIO CNG</th>\n",
       "      <th>DUAL DIESEL/CNG</th>\n",
       "      <th>DUAL DIESEL/LNG</th>\n",
       "      <th>ELECTRIC</th>\n",
       "      <th>ETHANOL</th>\n",
       "      <th>LNG</th>\n",
       "      <th>...</th>\n",
       "      <th>PETROL/CNG</th>\n",
       "      <th>PETROL/ETHANOL</th>\n",
       "      <th>PETROL/HYBRID</th>\n",
       "      <th>PETROL/LPG</th>\n",
       "      <th>PETROL/METHANOL</th>\n",
       "      <th>SOLAR</th>\n",
       "      <th>TOTAL</th>\n",
       "      <th>Year</th>\n",
       "      <th>Month</th>\n",
       "      <th>timeinterval</th>\n",
       "    </tr>\n",
       "  </thead>\n",
       "  <tbody>\n",
       "    <tr>\n",
       "      <th>0</th>\n",
       "      <td>ADAPTED VEHICLE</td>\n",
       "      <td>0</td>\n",
       "      <td>11</td>\n",
       "      <td>0</td>\n",
       "      <td>0</td>\n",
       "      <td>0</td>\n",
       "      <td>0</td>\n",
       "      <td>1</td>\n",
       "      <td>0</td>\n",
       "      <td>0</td>\n",
       "      <td>...</td>\n",
       "      <td>11</td>\n",
       "      <td>0</td>\n",
       "      <td>0</td>\n",
       "      <td>0</td>\n",
       "      <td>0</td>\n",
       "      <td>0</td>\n",
       "      <td>615</td>\n",
       "      <td>2016.0</td>\n",
       "      <td>JAN</td>\n",
       "      <td>1.0</td>\n",
       "    </tr>\n",
       "    <tr>\n",
       "      <th>1</th>\n",
       "      <td>AGRICULTURAL TRACTOR</td>\n",
       "      <td>0</td>\n",
       "      <td>28284</td>\n",
       "      <td>0</td>\n",
       "      <td>0</td>\n",
       "      <td>0</td>\n",
       "      <td>0</td>\n",
       "      <td>1</td>\n",
       "      <td>0</td>\n",
       "      <td>0</td>\n",
       "      <td>...</td>\n",
       "      <td>0</td>\n",
       "      <td>0</td>\n",
       "      <td>0</td>\n",
       "      <td>0</td>\n",
       "      <td>0</td>\n",
       "      <td>0</td>\n",
       "      <td>28520</td>\n",
       "      <td>2016.0</td>\n",
       "      <td>JAN</td>\n",
       "      <td>1.0</td>\n",
       "    </tr>\n",
       "    <tr>\n",
       "      <th>2</th>\n",
       "      <td>AMBULANCE</td>\n",
       "      <td>1</td>\n",
       "      <td>463</td>\n",
       "      <td>0</td>\n",
       "      <td>0</td>\n",
       "      <td>0</td>\n",
       "      <td>0</td>\n",
       "      <td>0</td>\n",
       "      <td>0</td>\n",
       "      <td>0</td>\n",
       "      <td>...</td>\n",
       "      <td>9</td>\n",
       "      <td>0</td>\n",
       "      <td>0</td>\n",
       "      <td>6</td>\n",
       "      <td>0</td>\n",
       "      <td>0</td>\n",
       "      <td>759</td>\n",
       "      <td>2016.0</td>\n",
       "      <td>JAN</td>\n",
       "      <td>1.0</td>\n",
       "    </tr>\n",
       "    <tr>\n",
       "      <th>3</th>\n",
       "      <td>ANIMAL AMBULANCE</td>\n",
       "      <td>0</td>\n",
       "      <td>1</td>\n",
       "      <td>0</td>\n",
       "      <td>0</td>\n",
       "      <td>0</td>\n",
       "      <td>0</td>\n",
       "      <td>0</td>\n",
       "      <td>0</td>\n",
       "      <td>0</td>\n",
       "      <td>...</td>\n",
       "      <td>0</td>\n",
       "      <td>0</td>\n",
       "      <td>0</td>\n",
       "      <td>0</td>\n",
       "      <td>0</td>\n",
       "      <td>0</td>\n",
       "      <td>1</td>\n",
       "      <td>2016.0</td>\n",
       "      <td>JAN</td>\n",
       "      <td>1.0</td>\n",
       "    </tr>\n",
       "    <tr>\n",
       "      <th>4</th>\n",
       "      <td>ARTICULATED VEHICLE</td>\n",
       "      <td>1</td>\n",
       "      <td>1774</td>\n",
       "      <td>0</td>\n",
       "      <td>0</td>\n",
       "      <td>0</td>\n",
       "      <td>0</td>\n",
       "      <td>0</td>\n",
       "      <td>0</td>\n",
       "      <td>0</td>\n",
       "      <td>...</td>\n",
       "      <td>0</td>\n",
       "      <td>0</td>\n",
       "      <td>0</td>\n",
       "      <td>0</td>\n",
       "      <td>0</td>\n",
       "      <td>0</td>\n",
       "      <td>1776</td>\n",
       "      <td>2016.0</td>\n",
       "      <td>JAN</td>\n",
       "      <td>1.0</td>\n",
       "    </tr>\n",
       "  </tbody>\n",
       "</table>\n",
       "<p>5 rows × 24 columns</p>\n",
       "</div>"
      ],
      "text/plain": [
       "          Vehicle Class CNG ONLY DIESEL DIESEL/HYBRID DUAL DIESEL/BIO CNG  \\\n",
       "0       ADAPTED VEHICLE        0     11             0                   0   \n",
       "1  AGRICULTURAL TRACTOR        0  28284             0                   0   \n",
       "2             AMBULANCE        1    463             0                   0   \n",
       "3      ANIMAL AMBULANCE        0      1             0                   0   \n",
       "4   ARTICULATED VEHICLE        1   1774             0                   0   \n",
       "\n",
       "  DUAL DIESEL/CNG DUAL DIESEL/LNG ELECTRIC ETHANOL LNG  ... PETROL/CNG  \\\n",
       "0               0               0        1       0   0  ...         11   \n",
       "1               0               0        1       0   0  ...          0   \n",
       "2               0               0        0       0   0  ...          9   \n",
       "3               0               0        0       0   0  ...          0   \n",
       "4               0               0        0       0   0  ...          0   \n",
       "\n",
       "  PETROL/ETHANOL PETROL/HYBRID PETROL/LPG PETROL/METHANOL SOLAR  TOTAL  \\\n",
       "0              0             0          0               0     0    615   \n",
       "1              0             0          0               0     0  28520   \n",
       "2              0             0          6               0     0    759   \n",
       "3              0             0          0               0     0      1   \n",
       "4              0             0          0               0     0   1776   \n",
       "\n",
       "     Year Month timeinterval  \n",
       "0  2016.0   JAN          1.0  \n",
       "1  2016.0   JAN          1.0  \n",
       "2  2016.0   JAN          1.0  \n",
       "3  2016.0   JAN          1.0  \n",
       "4  2016.0   JAN          1.0  \n",
       "\n",
       "[5 rows x 24 columns]"
      ]
     },
     "execution_count": 2,
     "metadata": {},
     "output_type": "execute_result"
    }
   ],
   "source": [
    "# List of Years and Months for which we are collecting data\n",
    "years = [2016,2017,2018,2019,2020,2021]\n",
    "months = ['JAN', 'FEB', 'MAR', 'APR', 'MAY', 'JUN', 'JUL', 'AUG', 'SEP', 'OCT', 'NOV', 'DEC']\n",
    "\n",
    "# Path where raw data is present\n",
    "dataset_path = '../Data sets/VehicleDataSet'\n",
    "\n",
    "# Creating DataFrame contains all fuel-type vehicles sales data monthwise from JAN 2016 to OCT 2021\n",
    "vehicle_dataset = pd.DataFrame(columns=['Vehicle Class','CNG ONLY','DIESEL','DIESEL/HYBRID','DUAL DIESEL/BIO CNG','DUAL DIESEL/CNG','DUAL DIESEL/LNG','ELECTRIC','ETHANOL','LNG','LPG ONLY','METHANOL','NOT APPLICABLE','PETROL','PETROL/CNG','PETROL/ETHANOL','PETROL/HYBRID','PETROL/LPG','PETROL/METHANOL','SOLAR','TOTAL'])\n",
    "t = 0\n",
    "for year in years:\n",
    "  for month in months:\n",
    "\n",
    "    if year == 2021 and month == 'NOV':\n",
    "      break\n",
    "\n",
    "    month_ev = pd.read_excel(dataset_path + '/' + month + str(year) + 'Vehicle.xlsx')\n",
    "    month_ev = month_ev[3:]\n",
    "    month_ev.columns = ['S No','Vehicle Class','CNG ONLY','DIESEL','DIESEL/HYBRID','DUAL DIESEL/BIO CNG','DUAL DIESEL/CNG','DUAL DIESEL/LNG','ELECTRIC','ETHANOL','LNG','LPG ONLY','METHANOL','NOT APPLICABLE','PETROL','PETROL/CNG','PETROL/ETHANOL','PETROL/HYBRID','PETROL/LPG','PETROL/METHANOL','SOLAR','TOTAL']\n",
    "    \n",
    "    month_ev.drop('S No', axis='columns', inplace=True)\n",
    "    \n",
    "    cols = ['CNG ONLY','DIESEL','DIESEL/HYBRID','DUAL DIESEL/BIO CNG','DUAL DIESEL/CNG','DUAL DIESEL/LNG','ELECTRIC','ETHANOL','LNG','LPG ONLY','METHANOL','NOT APPLICABLE','PETROL','PETROL/CNG','PETROL/ETHANOL','PETROL/HYBRID','PETROL/LPG','PETROL/METHANOL','SOLAR','TOTAL']\n",
    "    for col in cols:\n",
    "      month_ev[col] = month_ev[col].str.replace(',','')\n",
    "    \n",
    "    month_ev['Year'] = year\n",
    "    month_ev['Month'] = month\n",
    "    t += 1\n",
    "    month_ev['timeinterval'] = t\n",
    "\n",
    "    month_ev = month_ev.astype({'CNG ONLY':int, 'DIESEL':int, 'DIESEL/HYBRID':int, 'DUAL DIESEL/BIO CNG':int, 'DUAL DIESEL/CNG':int, 'DUAL DIESEL/LNG':int, 'ELECTRIC':int, 'ETHANOL':int, 'LNG':int, 'LPG ONLY':int, 'METHANOL':int, 'NOT APPLICABLE':int, 'PETROL':int, 'PETROL/CNG':int, 'PETROL/ETHANOL':int, 'PETROL/HYBRID':int, 'PETROL/LPG':int, 'PETROL/METHANOL':int, 'SOLAR':int, 'timeinterval':int, 'TOTAL':int})\n",
    "\n",
    "    vehicle_dataset = vehicle_dataset.append(month_ev)\n",
    "\n",
    "vehicle_dataset.reset_index(drop=True, inplace=True)\n",
    "vehicle_dataset.head()"
   ]
  },
  {
   "cell_type": "code",
   "execution_count": 3,
   "metadata": {
    "colab": {
     "base_uri": "https://localhost:8080/",
     "height": 238
    },
    "executionInfo": {
     "elapsed": 7,
     "status": "ok",
     "timestamp": 1637343495687,
     "user": {
      "displayName": "DATA MIMING",
      "photoUrl": "https://lh3.googleusercontent.com/a/default-user=s64",
      "userId": "13943601287099034839"
     },
     "user_tz": -330
    },
    "id": "HS_wE6qbO77S",
    "outputId": "cd7040ba-c0c1-4797-ef2f-f02658785427"
   },
   "outputs": [
    {
     "data": {
      "text/html": [
       "<div>\n",
       "<style scoped>\n",
       "    .dataframe tbody tr th:only-of-type {\n",
       "        vertical-align: middle;\n",
       "    }\n",
       "\n",
       "    .dataframe tbody tr th {\n",
       "        vertical-align: top;\n",
       "    }\n",
       "\n",
       "    .dataframe thead th {\n",
       "        text-align: right;\n",
       "    }\n",
       "</style>\n",
       "<table border=\"1\" class=\"dataframe\">\n",
       "  <thead>\n",
       "    <tr style=\"text-align: right;\">\n",
       "      <th></th>\n",
       "      <th>Year</th>\n",
       "      <th>DIESEL</th>\n",
       "      <th>PETROL</th>\n",
       "      <th>ELECTRIC</th>\n",
       "    </tr>\n",
       "  </thead>\n",
       "  <tbody>\n",
       "    <tr>\n",
       "      <th>0</th>\n",
       "      <td>2016.0</td>\n",
       "      <td>2437461</td>\n",
       "      <td>16186736</td>\n",
       "      <td>51260</td>\n",
       "    </tr>\n",
       "    <tr>\n",
       "      <th>1</th>\n",
       "      <td>2017.0</td>\n",
       "      <td>2530697</td>\n",
       "      <td>17697397</td>\n",
       "      <td>88346</td>\n",
       "    </tr>\n",
       "    <tr>\n",
       "      <th>2</th>\n",
       "      <td>2018.0</td>\n",
       "      <td>2785655</td>\n",
       "      <td>19084216</td>\n",
       "      <td>132099</td>\n",
       "    </tr>\n",
       "    <tr>\n",
       "      <th>3</th>\n",
       "      <td>2019.0</td>\n",
       "      <td>2535852</td>\n",
       "      <td>18077203</td>\n",
       "      <td>161313</td>\n",
       "    </tr>\n",
       "    <tr>\n",
       "      <th>4</th>\n",
       "      <td>2020.0</td>\n",
       "      <td>1754657</td>\n",
       "      <td>14059252</td>\n",
       "      <td>119656</td>\n",
       "    </tr>\n",
       "    <tr>\n",
       "      <th>5</th>\n",
       "      <td>2021.0</td>\n",
       "      <td>1459985</td>\n",
       "      <td>11240635</td>\n",
       "      <td>218317</td>\n",
       "    </tr>\n",
       "  </tbody>\n",
       "</table>\n",
       "</div>"
      ],
      "text/plain": [
       "     Year   DIESEL    PETROL  ELECTRIC\n",
       "0  2016.0  2437461  16186736     51260\n",
       "1  2017.0  2530697  17697397     88346\n",
       "2  2018.0  2785655  19084216    132099\n",
       "3  2019.0  2535852  18077203    161313\n",
       "4  2020.0  1754657  14059252    119656\n",
       "5  2021.0  1459985  11240635    218317"
      ]
     },
     "execution_count": 3,
     "metadata": {},
     "output_type": "execute_result"
    }
   ],
   "source": [
    "# Creating DataFrame contains Diesel, Petrol and Electric fuel-type vehicles count data year wise from 2016\n",
    "DPEV_year_dataset = vehicle_dataset[['Year','DIESEL','PETROL','ELECTRIC']]\n",
    "DPEV_year_dataset = DPEV_year_dataset.groupby(by='Year').sum()\n",
    "DPEV_year_dataset = DPEV_year_dataset.reset_index()\n",
    "DPEV_year_dataset"
   ]
  },
  {
   "cell_type": "code",
   "execution_count": 4,
   "metadata": {
    "colab": {
     "base_uri": "https://localhost:8080/",
     "height": 206
    },
    "executionInfo": {
     "elapsed": 7,
     "status": "ok",
     "timestamp": 1637343495688,
     "user": {
      "displayName": "DATA MIMING",
      "photoUrl": "https://lh3.googleusercontent.com/a/default-user=s64",
      "userId": "13943601287099034839"
     },
     "user_tz": -330
    },
    "id": "t7rOZJLycbV3",
    "outputId": "3a913670-10ae-4294-f0a9-ff58a6ac1d7c"
   },
   "outputs": [
    {
     "data": {
      "text/html": [
       "<div>\n",
       "<style scoped>\n",
       "    .dataframe tbody tr th:only-of-type {\n",
       "        vertical-align: middle;\n",
       "    }\n",
       "\n",
       "    .dataframe tbody tr th {\n",
       "        vertical-align: top;\n",
       "    }\n",
       "\n",
       "    .dataframe thead th {\n",
       "        text-align: right;\n",
       "    }\n",
       "</style>\n",
       "<table border=\"1\" class=\"dataframe\">\n",
       "  <thead>\n",
       "    <tr style=\"text-align: right;\">\n",
       "      <th></th>\n",
       "      <th>timeinterval</th>\n",
       "      <th>DIESEL</th>\n",
       "      <th>PETROL</th>\n",
       "      <th>ELECTRIC</th>\n",
       "      <th>TOTAL</th>\n",
       "      <th>Log ELECTRIC</th>\n",
       "      <th>Log TOTAL</th>\n",
       "    </tr>\n",
       "  </thead>\n",
       "  <tbody>\n",
       "    <tr>\n",
       "      <th>0</th>\n",
       "      <td>1.0</td>\n",
       "      <td>221831</td>\n",
       "      <td>1305912</td>\n",
       "      <td>2137</td>\n",
       "      <td>1574943</td>\n",
       "      <td>7.667158</td>\n",
       "      <td>14.269730</td>\n",
       "    </tr>\n",
       "    <tr>\n",
       "      <th>1</th>\n",
       "      <td>2.0</td>\n",
       "      <td>215196</td>\n",
       "      <td>1324057</td>\n",
       "      <td>2711</td>\n",
       "      <td>1584517</td>\n",
       "      <td>7.905073</td>\n",
       "      <td>14.275790</td>\n",
       "    </tr>\n",
       "    <tr>\n",
       "      <th>2</th>\n",
       "      <td>3.0</td>\n",
       "      <td>220363</td>\n",
       "      <td>1315082</td>\n",
       "      <td>4689</td>\n",
       "      <td>1586732</td>\n",
       "      <td>8.452975</td>\n",
       "      <td>14.277187</td>\n",
       "    </tr>\n",
       "    <tr>\n",
       "      <th>3</th>\n",
       "      <td>4.0</td>\n",
       "      <td>192510</td>\n",
       "      <td>1330967</td>\n",
       "      <td>3219</td>\n",
       "      <td>1572046</td>\n",
       "      <td>8.076826</td>\n",
       "      <td>14.267889</td>\n",
       "    </tr>\n",
       "    <tr>\n",
       "      <th>4</th>\n",
       "      <td>5.0</td>\n",
       "      <td>208805</td>\n",
       "      <td>1398426</td>\n",
       "      <td>4146</td>\n",
       "      <td>1658115</td>\n",
       "      <td>8.329899</td>\n",
       "      <td>14.321192</td>\n",
       "    </tr>\n",
       "  </tbody>\n",
       "</table>\n",
       "</div>"
      ],
      "text/plain": [
       "   timeinterval  DIESEL   PETROL  ELECTRIC    TOTAL  Log ELECTRIC  Log TOTAL\n",
       "0           1.0  221831  1305912      2137  1574943      7.667158  14.269730\n",
       "1           2.0  215196  1324057      2711  1584517      7.905073  14.275790\n",
       "2           3.0  220363  1315082      4689  1586732      8.452975  14.277187\n",
       "3           4.0  192510  1330967      3219  1572046      8.076826  14.267889\n",
       "4           5.0  208805  1398426      4146  1658115      8.329899  14.321192"
      ]
     },
     "execution_count": 4,
     "metadata": {},
     "output_type": "execute_result"
    }
   ],
   "source": [
    "# Creating DataFrame contains Diesel, Petrol and Electric fuel-type vehicles count data of past 70 months (from JAN 2016 to OCT 2021)\n",
    "DPEV_month_dataset = vehicle_dataset[['timeinterval','DIESEL','PETROL','ELECTRIC','TOTAL']]\n",
    "DPEV_month_dataset = DPEV_month_dataset.groupby(by='timeinterval').sum()\n",
    "DPEV_month_dataset = DPEV_month_dataset.reset_index()\n",
    "DPEV_month_dataset['Log ELECTRIC'] = np.log(DPEV_month_dataset['ELECTRIC'])\n",
    "DPEV_month_dataset['Log TOTAL'] = np.log(DPEV_month_dataset['TOTAL'])\n",
    "DPEV_month_dataset.head()"
   ]
  },
  {
   "cell_type": "markdown",
   "metadata": {
    "id": "_wbo-9zfdY5v"
   },
   "source": [
    "### **Data Visualization**"
   ]
  },
  {
   "cell_type": "code",
   "execution_count": 5,
   "metadata": {
    "colab": {
     "base_uri": "https://localhost:8080/",
     "height": 382
    },
    "executionInfo": {
     "elapsed": 767,
     "status": "ok",
     "timestamp": 1637343496448,
     "user": {
      "displayName": "DATA MIMING",
      "photoUrl": "https://lh3.googleusercontent.com/a/default-user=s64",
      "userId": "13943601287099034839"
     },
     "user_tz": -330
    },
    "id": "1Ns54lKHPLeD",
    "outputId": "2a8965c7-b458-4c90-988a-8ef8fd7bcc81"
   },
   "outputs": [
    {
     "data": {
      "image/png": "[encoded data removed]",
      "text/plain": [
       "<Figure size 1800x432 with 3 Axes>"
      ]
     },
     "metadata": {
      "needs_background": "light"
     },
     "output_type": "display_data"
    }
   ],
   "source": [
    "# Plotting Graphs for Sales of DIESEL, PETROL and ELECTRIC Vehicle over the past 6 years\n",
    "\n",
    "fig, (axis1,axis2,axis3) = plt.subplots(1,3,figsize=(25,6))\n",
    "\n",
    "axis1.bar(x=DPEV_year_dataset['Year'],height=DPEV_year_dataset['ELECTRIC'])\n",
    "axis1.set_xlabel('Year')\n",
    "axis1.set_ylabel('No. of vehicles')\n",
    "axis1.set_title('Sales of EV over the past 6 years')\n",
    "\n",
    "axis2.bar(x=DPEV_year_dataset['Year'],height=DPEV_year_dataset['DIESEL'])\n",
    "axis2.set_xlabel('Year')\n",
    "axis2.set_ylabel('No. of vehicles(\\'000000)')\n",
    "axis2.set_title('Sales of DIESEL Vehicles over the past 6 years')\n",
    "\n",
    "axis3.bar(x=DPEV_year_dataset['Year'],height=DPEV_year_dataset['PETROL'])\n",
    "axis3.set_xlabel('Year')\n",
    "axis3.set_ylabel('No. of vehicles(\\'0000000)')\n",
    "axis3.set_title('Sales of PETROL Vehicles over the past 6 years')\n",
    "\n",
    "plt.savefig('output/Sales of PETROL Vehicles over the past 6 years.jpg')"
   ]
  },
  {
   "cell_type": "code",
   "execution_count": 6,
   "metadata": {
    "colab": {
     "base_uri": "https://localhost:8080/",
     "height": 513
    },
    "executionInfo": {
     "elapsed": 816,
     "status": "ok",
     "timestamp": 1637343497259,
     "user": {
      "displayName": "DATA MIMING",
      "photoUrl": "https://lh3.googleusercontent.com/a/default-user=s64",
      "userId": "13943601287099034839"
     },
     "user_tz": -330
    },
    "id": "BfFRhtzQRh8y",
    "outputId": "ff8fe780-7350-4065-d009-8e50a198025a"
   },
   "outputs": [
    {
     "data": {
      "image/png": "[encoded data removed]",
      "text/plain": [
       "<Figure size 1008x576 with 1 Axes>"
      ]
     },
     "metadata": {
      "needs_background": "light"
     },
     "output_type": "display_data"
    }
   ],
   "source": [
    "# Plotting Comparision graph of Sales of DIESEL, PETROL and ELECTRIC Vehicle over the past 6 years\n",
    "DPEV_year_dataset.plot.bar(x='Year',y=['DIESEL','PETROL','ELECTRIC'],rot=0,title='Sales of DIESEL, PETROL and ELECTRIC Vehicle over the past 6 years',figsize=(14,8))\n",
    "plt.xlabel('Years')\n",
    "plt.ylabel('No. of vehicles(\\'0000000)')\n",
    "plt.savefig('output/Sales of DIESEL, PETROL and ELECTRIC Vehicle over the past 6 years.jpg')\n",
    "plt.show()"
   ]
  },
  {
   "cell_type": "code",
   "execution_count": 7,
   "metadata": {
    "colab": {
     "base_uri": "https://localhost:8080/",
     "height": 527
    },
    "executionInfo": {
     "elapsed": 971,
     "status": "ok",
     "timestamp": 1637343498227,
     "user": {
      "displayName": "DATA MIMING",
      "photoUrl": "https://lh3.googleusercontent.com/a/default-user=s64",
      "userId": "13943601287099034839"
     },
     "user_tz": -330
    },
    "id": "Ma13pVandT0V",
    "outputId": "2f7117e4-4391-4554-cfd4-26ab0d684a33"
   },
   "outputs": [
    {
     "data": {
      "image/png": "[encoded data removed]",
      "text/plain": [
       "<Figure size 1440x576 with 1 Axes>"
      ]
     },
     "metadata": {
      "needs_background": "light"
     },
     "output_type": "display_data"
    }
   ],
   "source": [
    "# Plotting Graph for ELECTRIC Vehicle over the past 70 months\n",
    "DPEV_month_dataset.plot.bar(x='timeinterval',y='ELECTRIC',rot=70,title='Sales of EV over the past 70 months',figsize=(20,8))\n",
    "plt.xlabel('Months')\n",
    "plt.ylabel('No. of EV')\n",
    "plt.savefig('output/Sales of EV over the past 70 months.jpg')\n",
    "plt.show()"
   ]
  },
  {
   "cell_type": "markdown",
   "metadata": {
    "id": "0AS6aNd8jUIK"
   },
   "source": [
    "Log of EV Graph"
   ]
  },
  {
   "cell_type": "code",
   "execution_count": 8,
   "metadata": {
    "colab": {
     "base_uri": "https://localhost:8080/",
     "height": 455
    },
    "executionInfo": {
     "elapsed": 873,
     "status": "ok",
     "timestamp": 1637343499096,
     "user": {
      "displayName": "DATA MIMING",
      "photoUrl": "https://lh3.googleusercontent.com/a/default-user=s64",
      "userId": "13943601287099034839"
     },
     "user_tz": -330
    },
    "id": "A5io_NpMitE8",
    "outputId": "4efc381d-3fcc-4a04-eea9-9c4eafe1e83b"
   },
   "outputs": [
    {
     "data": {
      "image/png": "[encoded data removed]",
      "text/plain": [
       "<Figure size 1800x576 with 1 Axes>"
      ]
     },
     "metadata": {
      "needs_background": "light"
     },
     "output_type": "display_data"
    }
   ],
   "source": [
    "# Plotting Graph for log of ELECTRIC Vehicle over the past 70 months\n",
    "plt.figure(figsize=(25,8))\n",
    "plt.bar(x=DPEV_month_dataset['timeinterval'], height=np.log(DPEV_month_dataset['ELECTRIC']))\n",
    "plt.plot(DPEV_month_dataset['timeinterval'],np.log(DPEV_month_dataset['ELECTRIC']),'r')\n",
    "plt.xlabel('months')\n",
    "plt.ylabel('Log of No. of EV')\n",
    "plt.savefig('output/Sales of log of EV over the past 70 months.jpg')\n",
    "plt.show()"
   ]
  },
  {
   "cell_type": "code",
   "execution_count": 9,
   "metadata": {
    "executionInfo": {
     "elapsed": 27,
     "status": "ok",
     "timestamp": 1637343502152,
     "user": {
      "displayName": "DATA MIMING",
      "photoUrl": "https://lh3.googleusercontent.com/a/default-user=s64",
      "userId": "13943601287099034839"
     },
     "user_tz": -330
    },
    "id": "FcMNLXm5zSIl"
   },
   "outputs": [],
   "source": [
    "ev_dataset = vehicle_dataset[['Vehicle Class', 'ELECTRIC', 'Year', 'Month']]\n",
    "#ev_dataset"
   ]
  },
  {
   "cell_type": "code",
   "execution_count": 10,
   "metadata": {
    "executionInfo": {
     "elapsed": 27,
     "status": "ok",
     "timestamp": 1637343502152,
     "user": {
      "displayName": "DATA MIMING",
      "photoUrl": "https://lh3.googleusercontent.com/a/default-user=s64",
      "userId": "13943601287099034839"
     },
     "user_tz": -330
    },
    "id": "u3u0W-pp00av"
   },
   "outputs": [],
   "source": [
    "ev_dataset_grouped = ev_dataset.groupby('Vehicle Class').agg({'ELECTRIC' : 'sum'})\n",
    "ev_dataset_grouped.drop(ev_dataset_grouped[ev_dataset_grouped['ELECTRIC'] == 0].index, inplace=True)\n",
    "\n",
    "#ev_dataset_grouped.head()"
   ]
  },
  {
   "cell_type": "markdown",
   "metadata": {
    "id": "pC3ieLGVgNP3"
   },
   "source": [
    "### **Implimenting Regression model to find number of EV in India by 2030**"
   ]
  },
  {
   "cell_type": "code",
   "execution_count": 11,
   "metadata": {
    "colab": {
     "base_uri": "https://localhost:8080/",
     "height": 206
    },
    "executionInfo": {
     "elapsed": 21,
     "status": "ok",
     "timestamp": 1637343502153,
     "user": {
      "displayName": "DATA MIMING",
      "photoUrl": "https://lh3.googleusercontent.com/a/default-user=s64",
      "userId": "13943601287099034839"
     },
     "user_tz": -330
    },
    "id": "wyN854GogoiH",
    "outputId": "182d35e2-3d40-4ed7-a8a7-88c36a217029"
   },
   "outputs": [
    {
     "data": {
      "text/html": [
       "<div>\n",
       "<style scoped>\n",
       "    .dataframe tbody tr th:only-of-type {\n",
       "        vertical-align: middle;\n",
       "    }\n",
       "\n",
       "    .dataframe tbody tr th {\n",
       "        vertical-align: top;\n",
       "    }\n",
       "\n",
       "    .dataframe thead th {\n",
       "        text-align: right;\n",
       "    }\n",
       "</style>\n",
       "<table border=\"1\" class=\"dataframe\">\n",
       "  <thead>\n",
       "    <tr style=\"text-align: right;\">\n",
       "      <th></th>\n",
       "      <th>timeinterval</th>\n",
       "      <th>DIESEL</th>\n",
       "      <th>PETROL</th>\n",
       "      <th>ELECTRIC</th>\n",
       "      <th>TOTAL</th>\n",
       "      <th>Log ELECTRIC</th>\n",
       "      <th>Log TOTAL</th>\n",
       "    </tr>\n",
       "  </thead>\n",
       "  <tbody>\n",
       "    <tr>\n",
       "      <th>0</th>\n",
       "      <td>1.0</td>\n",
       "      <td>221831</td>\n",
       "      <td>1305912</td>\n",
       "      <td>2137</td>\n",
       "      <td>1574943</td>\n",
       "      <td>7.667158</td>\n",
       "      <td>14.269730</td>\n",
       "    </tr>\n",
       "    <tr>\n",
       "      <th>1</th>\n",
       "      <td>2.0</td>\n",
       "      <td>215196</td>\n",
       "      <td>1324057</td>\n",
       "      <td>2711</td>\n",
       "      <td>1584517</td>\n",
       "      <td>7.905073</td>\n",
       "      <td>14.275790</td>\n",
       "    </tr>\n",
       "    <tr>\n",
       "      <th>2</th>\n",
       "      <td>3.0</td>\n",
       "      <td>220363</td>\n",
       "      <td>1315082</td>\n",
       "      <td>4689</td>\n",
       "      <td>1586732</td>\n",
       "      <td>8.452975</td>\n",
       "      <td>14.277187</td>\n",
       "    </tr>\n",
       "    <tr>\n",
       "      <th>3</th>\n",
       "      <td>4.0</td>\n",
       "      <td>192510</td>\n",
       "      <td>1330967</td>\n",
       "      <td>3219</td>\n",
       "      <td>1572046</td>\n",
       "      <td>8.076826</td>\n",
       "      <td>14.267889</td>\n",
       "    </tr>\n",
       "    <tr>\n",
       "      <th>4</th>\n",
       "      <td>5.0</td>\n",
       "      <td>208805</td>\n",
       "      <td>1398426</td>\n",
       "      <td>4146</td>\n",
       "      <td>1658115</td>\n",
       "      <td>8.329899</td>\n",
       "      <td>14.321192</td>\n",
       "    </tr>\n",
       "  </tbody>\n",
       "</table>\n",
       "</div>"
      ],
      "text/plain": [
       "   timeinterval  DIESEL   PETROL  ELECTRIC    TOTAL  Log ELECTRIC  Log TOTAL\n",
       "0           1.0  221831  1305912      2137  1574943      7.667158  14.269730\n",
       "1           2.0  215196  1324057      2711  1584517      7.905073  14.275790\n",
       "2           3.0  220363  1315082      4689  1586732      8.452975  14.277187\n",
       "3           4.0  192510  1330967      3219  1572046      8.076826  14.267889\n",
       "4           5.0  208805  1398426      4146  1658115      8.329899  14.321192"
      ]
     },
     "execution_count": 11,
     "metadata": {},
     "output_type": "execute_result"
    }
   ],
   "source": [
    "# Removing months 48 to 66 data which was affected by COVID\n",
    "df = DPEV_month_dataset[(DPEV_month_dataset['timeinterval']<48) | (DPEV_month_dataset['timeinterval']>66)]\n",
    "df.head()"
   ]
  },
  {
   "cell_type": "code",
   "execution_count": 12,
   "metadata": {
    "colab": {
     "base_uri": "https://localhost:8080/",
     "height": 206
    },
    "executionInfo": {
     "elapsed": 20,
     "status": "ok",
     "timestamp": 1637343502153,
     "user": {
      "displayName": "DATA MIMING",
      "photoUrl": "https://lh3.googleusercontent.com/a/default-user=s64",
      "userId": "13943601287099034839"
     },
     "user_tz": -330
    },
    "id": "_-nYp33eA2nv",
    "outputId": "4fd8e10d-2be5-4096-cce9-e8e4a29f5ae6"
   },
   "outputs": [
    {
     "data": {
      "text/html": [
       "<div>\n",
       "<style scoped>\n",
       "    .dataframe tbody tr th:only-of-type {\n",
       "        vertical-align: middle;\n",
       "    }\n",
       "\n",
       "    .dataframe tbody tr th {\n",
       "        vertical-align: top;\n",
       "    }\n",
       "\n",
       "    .dataframe thead th {\n",
       "        text-align: right;\n",
       "    }\n",
       "</style>\n",
       "<table border=\"1\" class=\"dataframe\">\n",
       "  <thead>\n",
       "    <tr style=\"text-align: right;\">\n",
       "      <th></th>\n",
       "      <th>timeinterval</th>\n",
       "      <th>DIESEL</th>\n",
       "      <th>PETROL</th>\n",
       "      <th>ELECTRIC</th>\n",
       "      <th>TOTAL</th>\n",
       "      <th>Log ELECTRIC</th>\n",
       "      <th>Log TOTAL</th>\n",
       "    </tr>\n",
       "  </thead>\n",
       "  <tbody>\n",
       "    <tr>\n",
       "      <th>0</th>\n",
       "      <td>1.0</td>\n",
       "      <td>221831</td>\n",
       "      <td>1305912</td>\n",
       "      <td>2137</td>\n",
       "      <td>1574943</td>\n",
       "      <td>7.667158</td>\n",
       "      <td>14.269730</td>\n",
       "    </tr>\n",
       "    <tr>\n",
       "      <th>1</th>\n",
       "      <td>2.0</td>\n",
       "      <td>215196</td>\n",
       "      <td>1324057</td>\n",
       "      <td>2711</td>\n",
       "      <td>1584517</td>\n",
       "      <td>7.905073</td>\n",
       "      <td>14.275790</td>\n",
       "    </tr>\n",
       "    <tr>\n",
       "      <th>2</th>\n",
       "      <td>3.0</td>\n",
       "      <td>220363</td>\n",
       "      <td>1315082</td>\n",
       "      <td>4689</td>\n",
       "      <td>1586732</td>\n",
       "      <td>8.452975</td>\n",
       "      <td>14.277187</td>\n",
       "    </tr>\n",
       "    <tr>\n",
       "      <th>3</th>\n",
       "      <td>4.0</td>\n",
       "      <td>192510</td>\n",
       "      <td>1330967</td>\n",
       "      <td>3219</td>\n",
       "      <td>1572046</td>\n",
       "      <td>8.076826</td>\n",
       "      <td>14.267889</td>\n",
       "    </tr>\n",
       "    <tr>\n",
       "      <th>4</th>\n",
       "      <td>5.0</td>\n",
       "      <td>208805</td>\n",
       "      <td>1398426</td>\n",
       "      <td>4146</td>\n",
       "      <td>1658115</td>\n",
       "      <td>8.329899</td>\n",
       "      <td>14.321192</td>\n",
       "    </tr>\n",
       "  </tbody>\n",
       "</table>\n",
       "</div>"
      ],
      "text/plain": [
       "   timeinterval  DIESEL   PETROL  ELECTRIC    TOTAL  Log ELECTRIC  Log TOTAL\n",
       "0           1.0  221831  1305912      2137  1574943      7.667158  14.269730\n",
       "1           2.0  215196  1324057      2711  1584517      7.905073  14.275790\n",
       "2           3.0  220363  1315082      4689  1586732      8.452975  14.277187\n",
       "3           4.0  192510  1330967      3219  1572046      8.076826  14.267889\n",
       "4           5.0  208805  1398426      4146  1658115      8.329899  14.321192"
      ]
     },
     "execution_count": 12,
     "metadata": {},
     "output_type": "execute_result"
    }
   ],
   "source": [
    "# Removing months 48 which was affected by COVID\n",
    "df1 = DPEV_month_dataset[(DPEV_month_dataset['timeinterval']<48)]\n",
    "df1.head()"
   ]
  },
  {
   "cell_type": "code",
   "execution_count": 13,
   "metadata": {
    "colab": {
     "base_uri": "https://localhost:8080/",
     "height": 366
    },
    "executionInfo": {
     "elapsed": 21,
     "status": "ok",
     "timestamp": 1637343502154,
     "user": {
      "displayName": "DATA MIMING",
      "photoUrl": "https://lh3.googleusercontent.com/a/default-user=s64",
      "userId": "13943601287099034839"
     },
     "user_tz": -330
    },
    "id": "s1fh5rVzeoVN",
    "outputId": "02605b56-3b32-4aa8-da7f-b9cebbbfad79"
   },
   "outputs": [
    {
     "name": "stdout",
     "output_type": "stream",
     "text": [
      "Root Mean Squared Error: 0.19813348312630027\n",
      "\n",
      "R2 Score: 0.8967912469580364\n",
      "\n",
      "\n"
     ]
    },
    {
     "data": {
      "image/png": "[encoded data removed]",
      "text/plain": [
       "<Figure size 432x288 with 1 Axes>"
      ]
     },
     "metadata": {
      "needs_background": "light"
     },
     "output_type": "display_data"
    }
   ],
   "source": [
    "x = df[['timeinterval']].values\n",
    "y = df[['Log ELECTRIC']].values\n",
    "\n",
    "regressorE = linear_model.LinearRegression()\n",
    "regressorE.fit(x,y)\n",
    "y_pred = regressorE.predict(x)\n",
    "y_intercept = regressorE.intercept_\n",
    "coe = regressorE.coef_[[0]]\n",
    "print('Root Mean Squared Error: '+ str(np.sqrt(mean_squared_error(y,y_pred))) + '\\n')\n",
    "print('R2 Score: ' + str(r2_score(y,y_pred)) + '\\n\\n')\n",
    "\n",
    "plt.scatter(x, y)\n",
    "y = coe * x + y_intercept\n",
    "plt.xlabel('months')\n",
    "plt.ylabel('No. of EV')\n",
    "plt.plot(x,y,color='r')\n",
    "plt.show()"
   ]
  },
  {
   "cell_type": "code",
   "execution_count": 14,
   "metadata": {
    "colab": {
     "base_uri": "https://localhost:8080/"
    },
    "executionInfo": {
     "elapsed": 17,
     "status": "ok",
     "timestamp": 1637343502154,
     "user": {
      "displayName": "DATA MIMING",
      "photoUrl": "https://lh3.googleusercontent.com/a/default-user=s64",
      "userId": "13943601287099034839"
     },
     "user_tz": -330
    },
    "id": "vpTSD59QhNW0",
    "outputId": "ded1dfe2-4224-43fb-d4e7-8effa298cd0b"
   },
   "outputs": [
    {
     "name": "stdout",
     "output_type": "stream",
     "text": [
      "Estimated Number of EV from 2022 to 2030 : 40513216\n"
     ]
    }
   ],
   "source": [
    "# Predicting No. of EV from 2022 to 2030\n",
    "x_future = []\n",
    "m = []\n",
    "for i in range(71,181,1):\n",
    "  m.append(i)\n",
    "  x_future.append([i])\n",
    "y_pred_future = np.exp(regressorE.predict(x_future))\n",
    "ev_from_2022_by_2030 = round(y_pred_future.sum())\n",
    "print('Estimated Number of EV from 2022 to 2030 : ' + str(ev_from_2022_by_2030))"
   ]
  },
  {
   "cell_type": "code",
   "execution_count": 15,
   "metadata": {
    "colab": {
     "base_uri": "https://localhost:8080/"
    },
    "executionInfo": {
     "elapsed": 15,
     "status": "ok",
     "timestamp": 1637343502154,
     "user": {
      "displayName": "DATA MIMING",
      "photoUrl": "https://lh3.googleusercontent.com/a/default-user=s64",
      "userId": "13943601287099034839"
     },
     "user_tz": -330
    },
    "id": "9ahqvJU0inx_",
    "outputId": "c9f891da-6b45-4be2-9691-9bb8a5322852"
   },
   "outputs": [
    {
     "name": "stdout",
     "output_type": "stream",
     "text": [
      "Number of EV by 2021: 770991\n",
      "Number of EV by 2030: 41284207\n"
     ]
    }
   ],
   "source": [
    "ev_by_2021 = DPEV_month_dataset['ELECTRIC'].sum()\n",
    "ev_by_2030 = ev_by_2021 + ev_from_2022_by_2030\n",
    "print('Number of EV by 2021: ' + str(ev_by_2021))\n",
    "print('Number of EV by 2030: ' + str(ev_by_2030))"
   ]
  },
  {
   "cell_type": "code",
   "execution_count": 16,
   "metadata": {
    "colab": {
     "base_uri": "https://localhost:8080/",
     "height": 465
    },
    "executionInfo": {
     "elapsed": 1133,
     "status": "ok",
     "timestamp": 1637343503274,
     "user": {
      "displayName": "DATA MIMING",
      "photoUrl": "https://lh3.googleusercontent.com/a/default-user=s64",
      "userId": "13943601287099034839"
     },
     "user_tz": -330
    },
    "id": "Z-KJYKqnjM9G",
    "outputId": "9d30dd8f-8fb9-48ad-a64c-14989ff5c96d"
   },
   "outputs": [
    {
     "data": {
      "image/png": "[encoded data removed]",
      "text/plain": [
       "<Figure size 1800x576 with 1 Axes>"
      ]
     },
     "metadata": {
      "needs_background": "light"
     },
     "output_type": "display_data"
    }
   ],
   "source": [
    "# Plotting Graph for estimated Number of ELECTRIC Vehicle month wise from 2022 to 2030\n",
    "plt.figure(figsize=(25,8))\n",
    "plt.bar(x=m, height=np.reshape(y_pred_future,110))\n",
    "plt.plot(m,np.reshape(y_pred_future,110),'r')\n",
    "plt.xlabel('months')\n",
    "plt.ylabel('No. of EV')\n",
    "plt.savefig('output/estimated Number of ELECTRIC Vehicle month wise from 2022 to 2030.jpg')\n",
    "plt.show()"
   ]
  },
  {
   "cell_type": "markdown",
   "metadata": {
    "id": "MqtyAKsCkDbP"
   },
   "source": [
    "### **Reduction in Petrol and Diesel comsumption per year after introduction of EV**"
   ]
  },
  {
   "cell_type": "code",
   "execution_count": 17,
   "metadata": {
    "colab": {
     "base_uri": "https://localhost:8080/",
     "height": 175
    },
    "executionInfo": {
     "elapsed": 30,
     "status": "ok",
     "timestamp": 1637343503275,
     "user": {
      "displayName": "DATA MIMING",
      "photoUrl": "https://lh3.googleusercontent.com/a/default-user=s64",
      "userId": "13943601287099034839"
     },
     "user_tz": -330
    },
    "id": "gZciJVBNkYKu",
    "outputId": "9154af4a-5813-4451-978d-3eb78ef2cd6a"
   },
   "outputs": [
    {
     "data": {
      "text/html": [
       "<div>\n",
       "<style scoped>\n",
       "    .dataframe tbody tr th:only-of-type {\n",
       "        vertical-align: middle;\n",
       "    }\n",
       "\n",
       "    .dataframe tbody tr th {\n",
       "        vertical-align: top;\n",
       "    }\n",
       "\n",
       "    .dataframe thead th {\n",
       "        text-align: right;\n",
       "    }\n",
       "</style>\n",
       "<table border=\"1\" class=\"dataframe\">\n",
       "  <thead>\n",
       "    <tr style=\"text-align: right;\">\n",
       "      <th></th>\n",
       "      <th>Year</th>\n",
       "      <th>DIESEL</th>\n",
       "      <th>PETROL</th>\n",
       "      <th>Diesel vehicle percent</th>\n",
       "      <th>Petrol vehicle percent</th>\n",
       "    </tr>\n",
       "  </thead>\n",
       "  <tbody>\n",
       "    <tr>\n",
       "      <th>0</th>\n",
       "      <td>2016.0</td>\n",
       "      <td>2437461</td>\n",
       "      <td>16186736</td>\n",
       "      <td>13.087603</td>\n",
       "      <td>86.912397</td>\n",
       "    </tr>\n",
       "    <tr>\n",
       "      <th>1</th>\n",
       "      <td>2017.0</td>\n",
       "      <td>2530697</td>\n",
       "      <td>17697397</td>\n",
       "      <td>12.510803</td>\n",
       "      <td>87.489197</td>\n",
       "    </tr>\n",
       "    <tr>\n",
       "      <th>2</th>\n",
       "      <td>2018.0</td>\n",
       "      <td>2785655</td>\n",
       "      <td>19084216</td>\n",
       "      <td>12.737409</td>\n",
       "      <td>87.262591</td>\n",
       "    </tr>\n",
       "    <tr>\n",
       "      <th>3</th>\n",
       "      <td>2019.0</td>\n",
       "      <td>2535852</td>\n",
       "      <td>18077203</td>\n",
       "      <td>12.302165</td>\n",
       "      <td>87.697835</td>\n",
       "    </tr>\n",
       "  </tbody>\n",
       "</table>\n",
       "</div>"
      ],
      "text/plain": [
       "     Year   DIESEL    PETROL  Diesel vehicle percent  Petrol vehicle percent\n",
       "0  2016.0  2437461  16186736               13.087603               86.912397\n",
       "1  2017.0  2530697  17697397               12.510803               87.489197\n",
       "2  2018.0  2785655  19084216               12.737409               87.262591\n",
       "3  2019.0  2535852  18077203               12.302165               87.697835"
      ]
     },
     "execution_count": 17,
     "metadata": {},
     "output_type": "execute_result"
    }
   ],
   "source": [
    "# Dataframe contains Petrol and Diesel vehicles year wise data\n",
    "DP_vehicles = DPEV_year_dataset[['Year','DIESEL','PETROL']]\n",
    "DP_vehicles = DP_vehicles[DP_vehicles['Year']<2020]\n",
    "DP_vehicles['Diesel vehicle percent'] = (DP_vehicles['DIESEL']*100)/(DP_vehicles['DIESEL']+DP_vehicles['PETROL'])\n",
    "DP_vehicles['Petrol vehicle percent'] = (DP_vehicles['PETROL']*100)/(DP_vehicles['DIESEL']+DP_vehicles['PETROL'])\n",
    "diesel_vehicle_percent = np.mean(DP_vehicles['Diesel vehicle percent'])/100\n",
    "petrol_vehicle_percent = np.mean(DP_vehicles['Petrol vehicle percent'])/100\n",
    "DP_vehicles"
   ]
  },
  {
   "cell_type": "code",
   "execution_count": 18,
   "metadata": {
    "colab": {
     "base_uri": "https://localhost:8080/"
    },
    "executionInfo": {
     "elapsed": 29,
     "status": "ok",
     "timestamp": 1637343503275,
     "user": {
      "displayName": "DATA MIMING",
      "photoUrl": "https://lh3.googleusercontent.com/a/default-user=s64",
      "userId": "13943601287099034839"
     },
     "user_tz": -330
    },
    "id": "2YNOfB2ftaDn",
    "outputId": "2d384b5c-81e9-4736-97e8-735d39fd1fdf"
   },
   "outputs": [
    {
     "data": {
      "text/plain": [
       "0.12659495106890883"
      ]
     },
     "execution_count": 18,
     "metadata": {},
     "output_type": "execute_result"
    }
   ],
   "source": [
    "diesel_vehicle_percent"
   ]
  },
  {
   "cell_type": "code",
   "execution_count": 19,
   "metadata": {
    "colab": {
     "base_uri": "https://localhost:8080/"
    },
    "executionInfo": {
     "elapsed": 24,
     "status": "ok",
     "timestamp": 1637343503275,
     "user": {
      "displayName": "DATA MIMING",
      "photoUrl": "https://lh3.googleusercontent.com/a/default-user=s64",
      "userId": "13943601287099034839"
     },
     "user_tz": -330
    },
    "id": "-BNJxQ5-tg6b",
    "outputId": "10e8ca7e-87cc-4324-af4f-f12e0ed4f1d6"
   },
   "outputs": [
    {
     "data": {
      "text/plain": [
       "0.8734050489310912"
      ]
     },
     "execution_count": 19,
     "metadata": {},
     "output_type": "execute_result"
    }
   ],
   "source": [
    "1-diesel_vehicle_percent"
   ]
  },
  {
   "cell_type": "code",
   "execution_count": 20,
   "metadata": {
    "colab": {
     "base_uri": "https://localhost:8080/",
     "height": 192
    },
    "executionInfo": {
     "elapsed": 22,
     "status": "ok",
     "timestamp": 1637343503276,
     "user": {
      "displayName": "DATA MIMING",
      "photoUrl": "https://lh3.googleusercontent.com/a/default-user=s64",
      "userId": "13943601287099034839"
     },
     "user_tz": -330
    },
    "id": "xKnePZ2LkBIE",
    "outputId": "aa81823c-c2e4-4955-c89f-21f1bf64040a"
   },
   "outputs": [
    {
     "data": {
      "text/html": [
       "<div>\n",
       "<style scoped>\n",
       "    .dataframe tbody tr th:only-of-type {\n",
       "        vertical-align: middle;\n",
       "    }\n",
       "\n",
       "    .dataframe tbody tr th {\n",
       "        vertical-align: top;\n",
       "    }\n",
       "\n",
       "    .dataframe thead th {\n",
       "        text-align: right;\n",
       "    }\n",
       "</style>\n",
       "<table border=\"1\" class=\"dataframe\">\n",
       "  <thead>\n",
       "    <tr style=\"text-align: right;\">\n",
       "      <th></th>\n",
       "      <th>Year</th>\n",
       "      <th>Diesel Consumption (Mb/d)</th>\n",
       "      <th>Petrol Consumption (Mb/d)</th>\n",
       "      <th>Diesel Consumption (Mb)</th>\n",
       "      <th>Petrol Consumption (Mb)</th>\n",
       "      <th>Diesel Consumption per vehicle(in barrel)</th>\n",
       "      <th>Petrol Consumption per vehicle(in barrel)</th>\n",
       "    </tr>\n",
       "  </thead>\n",
       "  <tbody>\n",
       "    <tr>\n",
       "      <th>0</th>\n",
       "      <td>2016</td>\n",
       "      <td>1.495762</td>\n",
       "      <td>0.464882</td>\n",
       "      <td>545.952960</td>\n",
       "      <td>169.682100</td>\n",
       "      <td>223.984285</td>\n",
       "      <td>10.482787</td>\n",
       "    </tr>\n",
       "    <tr>\n",
       "      <th>1</th>\n",
       "      <td>2017</td>\n",
       "      <td>1.596176</td>\n",
       "      <td>0.512016</td>\n",
       "      <td>582.604179</td>\n",
       "      <td>186.885775</td>\n",
       "      <td>230.214909</td>\n",
       "      <td>10.560071</td>\n",
       "    </tr>\n",
       "    <tr>\n",
       "      <th>2</th>\n",
       "      <td>2018</td>\n",
       "      <td>1.645649</td>\n",
       "      <td>0.553287</td>\n",
       "      <td>600.661782</td>\n",
       "      <td>201.949902</td>\n",
       "      <td>215.626767</td>\n",
       "      <td>10.582038</td>\n",
       "    </tr>\n",
       "    <tr>\n",
       "      <th>3</th>\n",
       "      <td>2019</td>\n",
       "      <td>1.627652</td>\n",
       "      <td>0.586373</td>\n",
       "      <td>594.093008</td>\n",
       "      <td>214.026050</td>\n",
       "      <td>234.277477</td>\n",
       "      <td>11.839556</td>\n",
       "    </tr>\n",
       "  </tbody>\n",
       "</table>\n",
       "</div>"
      ],
      "text/plain": [
       "   Year  Diesel Consumption (Mb/d)  Petrol Consumption (Mb/d)  \\\n",
       "0  2016                   1.495762                   0.464882   \n",
       "1  2017                   1.596176                   0.512016   \n",
       "2  2018                   1.645649                   0.553287   \n",
       "3  2019                   1.627652                   0.586373   \n",
       "\n",
       "   Diesel Consumption (Mb)  Petrol Consumption (Mb)  \\\n",
       "0               545.952960               169.682100   \n",
       "1               582.604179               186.885775   \n",
       "2               600.661782               201.949902   \n",
       "3               594.093008               214.026050   \n",
       "\n",
       "   Diesel Consumption per vehicle(in barrel)  \\\n",
       "0                                 223.984285   \n",
       "1                                 230.214909   \n",
       "2                                 215.626767   \n",
       "3                                 234.277477   \n",
       "\n",
       "   Petrol Consumption per vehicle(in barrel)  \n",
       "0                                  10.482787  \n",
       "1                                  10.560071  \n",
       "2                                  10.582038  \n",
       "3                                  11.839556  "
      ]
     },
     "execution_count": 20,
     "metadata": {},
     "output_type": "execute_result"
    }
   ],
   "source": [
    "# Dataframe contains Petrol and Diesel consumed year wise in India\n",
    "oil_consumed = pd.read_csv('../Data sets/Oil Data/consumption-of-diesel-and-petrol-in-india.csv')\n",
    "oil_consumed = oil_consumed[oil_consumed['Year']>2015]\n",
    "oil_consumed = oil_consumed.sort_values(by='Year').reset_index(drop=True)\n",
    "oil_consumed['Diesel Consumption (Mb)'] = oil_consumed['Diesel Consumption (Mb/d)']*365\n",
    "oil_consumed['Petrol Consumption (Mb)'] = oil_consumed['Petrol Consumption (Mb/d)']*365\n",
    "oil_consumed['Diesel Consumption per vehicle(in barrel)'] = (oil_consumed['Diesel Consumption (Mb)']/DP_vehicles['DIESEL'])*1000000\n",
    "oil_consumed['Petrol Consumption per vehicle(in barrel)'] = (oil_consumed['Petrol Consumption (Mb)']/DP_vehicles['PETROL'])*1000000\n",
    "oil_consumed.head()"
   ]
  },
  {
   "cell_type": "code",
   "execution_count": 21,
   "metadata": {
    "colab": {
     "base_uri": "https://localhost:8080/"
    },
    "executionInfo": {
     "elapsed": 21,
     "status": "ok",
     "timestamp": 1637343503276,
     "user": {
      "displayName": "DATA MIMING",
      "photoUrl": "https://lh3.googleusercontent.com/a/default-user=s64",
      "userId": "13943601287099034839"
     },
     "user_tz": -330
    },
    "id": "LGiYXy8MlitN",
    "outputId": "c9167210-89fc-4fa3-def3-e9bb03d0e901"
   },
   "outputs": [
    {
     "name": "stdout",
     "output_type": "stream",
     "text": [
      "Average Diesel consumed by a vehicle in one year (in barrel):  226.02585946590074\n",
      "Average Petrol consumed by a vehicle in one year (in barrel):  10.86611295378982\n"
     ]
    }
   ],
   "source": [
    "# Finding average Petrol and Diesel consumed by a vehicle in one year\n",
    "avg_diesel_per_vehicle = np.mean(oil_consumed['Diesel Consumption per vehicle(in barrel)'])\n",
    "avg_petrol_per_vehicle = np.mean(oil_consumed['Petrol Consumption per vehicle(in barrel)'])\n",
    "print('Average Diesel consumed by a vehicle in one year (in barrel): ',avg_diesel_per_vehicle)\n",
    "print('Average Petrol consumed by a vehicle in one year (in barrel): ',avg_petrol_per_vehicle)"
   ]
  },
  {
   "cell_type": "code",
   "execution_count": 22,
   "metadata": {
    "colab": {
     "base_uri": "https://localhost:8080/",
     "height": 332
    },
    "executionInfo": {
     "elapsed": 19,
     "status": "ok",
     "timestamp": 1637343503276,
     "user": {
      "displayName": "DATA MIMING",
      "photoUrl": "https://lh3.googleusercontent.com/a/default-user=s64",
      "userId": "13943601287099034839"
     },
     "user_tz": -330
    },
    "id": "xNFxYk3wlvMr",
    "outputId": "7ac3e24c-e4dd-4b67-dcb3-bd64604ee29f"
   },
   "outputs": [
    {
     "data": {
      "text/html": [
       "<div>\n",
       "<style scoped>\n",
       "    .dataframe tbody tr th:only-of-type {\n",
       "        vertical-align: middle;\n",
       "    }\n",
       "\n",
       "    .dataframe tbody tr th {\n",
       "        vertical-align: top;\n",
       "    }\n",
       "\n",
       "    .dataframe thead th {\n",
       "        text-align: right;\n",
       "    }\n",
       "</style>\n",
       "<table border=\"1\" class=\"dataframe\">\n",
       "  <thead>\n",
       "    <tr style=\"text-align: right;\">\n",
       "      <th></th>\n",
       "      <th>Year</th>\n",
       "      <th>No of EV</th>\n",
       "      <th>Reduced DP (in Mb)</th>\n",
       "    </tr>\n",
       "  </thead>\n",
       "  <tbody>\n",
       "    <tr>\n",
       "      <th>0</th>\n",
       "      <td>2022</td>\n",
       "      <td>571780</td>\n",
       "      <td>21.787260</td>\n",
       "    </tr>\n",
       "    <tr>\n",
       "      <th>1</th>\n",
       "      <td>2023</td>\n",
       "      <td>849822</td>\n",
       "      <td>32.381843</td>\n",
       "    </tr>\n",
       "    <tr>\n",
       "      <th>2</th>\n",
       "      <td>2024</td>\n",
       "      <td>1263069</td>\n",
       "      <td>48.128299</td>\n",
       "    </tr>\n",
       "    <tr>\n",
       "      <th>3</th>\n",
       "      <td>2025</td>\n",
       "      <td>1877267</td>\n",
       "      <td>71.531851</td>\n",
       "    </tr>\n",
       "    <tr>\n",
       "      <th>4</th>\n",
       "      <td>2026</td>\n",
       "      <td>2790134</td>\n",
       "      <td>106.315947</td>\n",
       "    </tr>\n",
       "    <tr>\n",
       "      <th>5</th>\n",
       "      <td>2027</td>\n",
       "      <td>4146904</td>\n",
       "      <td>158.014653</td>\n",
       "    </tr>\n",
       "    <tr>\n",
       "      <th>6</th>\n",
       "      <td>2028</td>\n",
       "      <td>6163436</td>\n",
       "      <td>234.853109</td>\n",
       "    </tr>\n",
       "    <tr>\n",
       "      <th>7</th>\n",
       "      <td>2029</td>\n",
       "      <td>9160556</td>\n",
       "      <td>349.056125</td>\n",
       "    </tr>\n",
       "    <tr>\n",
       "      <th>8</th>\n",
       "      <td>2030</td>\n",
       "      <td>13615099</td>\n",
       "      <td>518.793127</td>\n",
       "    </tr>\n",
       "  </tbody>\n",
       "</table>\n",
       "</div>"
      ],
      "text/plain": [
       "   Year  No of EV  Reduced DP (in Mb)\n",
       "0  2022    571780           21.787260\n",
       "1  2023    849822           32.381843\n",
       "2  2024   1263069           48.128299\n",
       "3  2025   1877267           71.531851\n",
       "4  2026   2790134          106.315947\n",
       "5  2027   4146904          158.014653\n",
       "6  2028   6163436          234.853109\n",
       "7  2029   9160556          349.056125\n",
       "8  2030  13615099          518.793127"
      ]
     },
     "execution_count": 22,
     "metadata": {},
     "output_type": "execute_result"
    }
   ],
   "source": [
    "# Predicting expected reduction in Petrol and Diesel consumption (in Mb) year wise\n",
    "ev_future = y_pred_future[2:]\n",
    "year_future = 2021\n",
    "reduction_df = pd.DataFrame(columns=['Year','No of EV','Reduced DP (in Mb)'])\n",
    "for i in range(0,97,12):\n",
    "  sum = ev_future[i:i+12].sum()\n",
    "  year_future += 1\n",
    "  reduction_df = reduction_df.append({'Year':year_future, 'No of EV':round(sum),'Reduced DP (in Mb)':round((diesel_vehicle_percent * sum * avg_diesel_per_vehicle)+(petrol_vehicle_percent * sum * avg_petrol_per_vehicle))/1000000},ignore_index=True)\n",
    "\n",
    "reduction_df['Year'] = reduction_df['Year'].astype(int)\n",
    "reduction_df['No of EV'] = reduction_df['No of EV'].astype(int)\n",
    "reduction_df"
   ]
  },
  {
   "cell_type": "code",
   "execution_count": 23,
   "metadata": {
    "colab": {
     "base_uri": "https://localhost:8080/",
     "height": 388
    },
    "executionInfo": {
     "elapsed": 19,
     "status": "ok",
     "timestamp": 1637343503277,
     "user": {
      "displayName": "DATA MIMING",
      "photoUrl": "https://lh3.googleusercontent.com/a/default-user=s64",
      "userId": "13943601287099034839"
     },
     "user_tz": -330
    },
    "id": "9Lwcq2bOnOXZ",
    "outputId": "c2c948a5-9bf0-4002-a86c-6a4b9334388e"
   },
   "outputs": [
    {
     "data": {
      "image/png": "[encoded data removed]",
      "text/plain": [
       "<Figure size 720x432 with 1 Axes>"
      ]
     },
     "metadata": {
      "needs_background": "light"
     },
     "output_type": "display_data"
    }
   ],
   "source": [
    "# Plotting graph shows expected reduction in Petrol and Diesel consumption (in Mb) year wise\n",
    "plt.figure(figsize=(10,6))\n",
    "plt.bar(x=reduction_df['Year'], height=reduction_df['Reduced DP (in Mb)'])\n",
    "plt.plot(reduction_df['Year'], reduction_df['Reduced DP (in Mb)'],'r')\n",
    "plt.xlabel('Year')\n",
    "plt.ylabel('Reduction in Petrol and Diesel consumption (in Mb)')\n",
    "plt.savefig('output/Reduction in Petrol and Diesel consumption (in Mb) yearwise.jpg')\n",
    "plt.show()"
   ]
  },
  {
   "cell_type": "markdown",
   "metadata": {
    "id": "Sb3G9W88BKQ_"
   },
   "source": [
    "### **Finding Expected EV market share in Auto mobile sector by 2030**"
   ]
  },
  {
   "cell_type": "code",
   "execution_count": 24,
   "metadata": {
    "colab": {
     "base_uri": "https://localhost:8080/",
     "height": 366
    },
    "executionInfo": {
     "elapsed": 18,
     "status": "ok",
     "timestamp": 1637343503277,
     "user": {
      "displayName": "DATA MIMING",
      "photoUrl": "https://lh3.googleusercontent.com/a/default-user=s64",
      "userId": "13943601287099034839"
     },
     "user_tz": -330
    },
    "id": "RHnrTb2b8n3g",
    "outputId": "e22db1c5-c6ea-438a-fd25-3bf8cf7042d3"
   },
   "outputs": [
    {
     "name": "stdout",
     "output_type": "stream",
     "text": [
      "Root Mean Squared Error: 0.10314729952004174\n",
      "\n",
      "R2 Score: 0.20857662720417125\n",
      "\n",
      "\n"
     ]
    },
    {
     "data": {
      "image/png": "[encoded data removed]",
      "text/plain": [
       "<Figure size 432x288 with 1 Axes>"
      ]
     },
     "metadata": {
      "needs_background": "light"
     },
     "output_type": "display_data"
    }
   ],
   "source": [
    "x = df1[['timeinterval']].values\n",
    "y = df1[['Log TOTAL']].values\n",
    "\n",
    "regressorT = linear_model.LinearRegression()\n",
    "regressorT.fit(x,y)\n",
    "y_pred = regressorT.predict(x)\n",
    "y_intercept = regressorT.intercept_\n",
    "coe = regressorT.coef_[[0]]\n",
    "print('Root Mean Squared Error: '+ str(np.sqrt(mean_squared_error(y,y_pred))) + '\\n')\n",
    "print('R2 Score: ' + str(r2_score(y,y_pred)) + '\\n\\n')\n",
    "\n",
    "plt.scatter(x, y)\n",
    "y = coe * x + y_intercept\n",
    "\n",
    "plt.xlabel('months')\n",
    "plt.ylabel('Total Vehicles')\n",
    "plt.plot(x,y,color='r')\n",
    "plt.show()"
   ]
  },
  {
   "cell_type": "code",
   "execution_count": 25,
   "metadata": {
    "colab": {
     "base_uri": "https://localhost:8080/"
    },
    "executionInfo": {
     "elapsed": 16,
     "status": "ok",
     "timestamp": 1637343503277,
     "user": {
      "displayName": "DATA MIMING",
      "photoUrl": "https://lh3.googleusercontent.com/a/default-user=s64",
      "userId": "13943601287099034839"
     },
     "user_tz": -330
    },
    "id": "fKlqY3CVBoud",
    "outputId": "225e7615-8548-4fb8-8e10-8ae67c3d192e"
   },
   "outputs": [
    {
     "data": {
      "text/plain": [
       "110"
      ]
     },
     "execution_count": 25,
     "metadata": {},
     "output_type": "execute_result"
    }
   ],
   "source": [
    "x_future_total = []\n",
    "for i in range(71,181,1):\n",
    "  x_future_total.append([i])\n",
    "y_pred_future_total = np.exp(regressorT.predict(x_future_total))\n",
    "len(y_pred_future_total)"
   ]
  },
  {
   "cell_type": "code",
   "execution_count": 26,
   "metadata": {
    "colab": {
     "base_uri": "https://localhost:8080/",
     "height": 332
    },
    "executionInfo": {
     "elapsed": 686,
     "status": "ok",
     "timestamp": 1637343503949,
     "user": {
      "displayName": "DATA MIMING",
      "photoUrl": "https://lh3.googleusercontent.com/a/default-user=s64",
      "userId": "13943601287099034839"
     },
     "user_tz": -330
    },
    "id": "mRtAtnsRB37B",
    "outputId": "8bbabc11-6ae6-4c35-dd0a-9cdea319ec08"
   },
   "outputs": [
    {
     "data": {
      "text/html": [
       "<div>\n",
       "<style scoped>\n",
       "    .dataframe tbody tr th:only-of-type {\n",
       "        vertical-align: middle;\n",
       "    }\n",
       "\n",
       "    .dataframe tbody tr th {\n",
       "        vertical-align: top;\n",
       "    }\n",
       "\n",
       "    .dataframe thead th {\n",
       "        text-align: right;\n",
       "    }\n",
       "</style>\n",
       "<table border=\"1\" class=\"dataframe\">\n",
       "  <thead>\n",
       "    <tr style=\"text-align: right;\">\n",
       "      <th></th>\n",
       "      <th>Year</th>\n",
       "      <th>Total vehicles</th>\n",
       "      <th>No of EV</th>\n",
       "      <th>EV market share (selling percent yearwise)</th>\n",
       "      <th>Total vehicles oil consump (in Mb)</th>\n",
       "      <th>oil consump reduced bcoz of EV (in Mb)</th>\n",
       "    </tr>\n",
       "  </thead>\n",
       "  <tbody>\n",
       "    <tr>\n",
       "      <th>0</th>\n",
       "      <td>2022</td>\n",
       "      <td>25902352</td>\n",
       "      <td>571780</td>\n",
       "      <td>2.207444</td>\n",
       "      <td>986.98971</td>\n",
       "      <td>21.787260</td>\n",
       "    </tr>\n",
       "    <tr>\n",
       "      <th>1</th>\n",
       "      <td>2023</td>\n",
       "      <td>27144604</td>\n",
       "      <td>849822</td>\n",
       "      <td>3.130722</td>\n",
       "      <td>1034.324792</td>\n",
       "      <td>32.381843</td>\n",
       "    </tr>\n",
       "    <tr>\n",
       "      <th>2</th>\n",
       "      <td>2024</td>\n",
       "      <td>28446433</td>\n",
       "      <td>1263069</td>\n",
       "      <td>4.440167</td>\n",
       "      <td>1083.93001</td>\n",
       "      <td>48.128299</td>\n",
       "    </tr>\n",
       "    <tr>\n",
       "      <th>3</th>\n",
       "      <td>2025</td>\n",
       "      <td>29810697</td>\n",
       "      <td>1877267</td>\n",
       "      <td>6.297293</td>\n",
       "      <td>1135.914267</td>\n",
       "      <td>71.531851</td>\n",
       "    </tr>\n",
       "    <tr>\n",
       "      <th>4</th>\n",
       "      <td>2026</td>\n",
       "      <td>31240389</td>\n",
       "      <td>2790134</td>\n",
       "      <td>8.931176</td>\n",
       "      <td>1190.391609</td>\n",
       "      <td>106.315947</td>\n",
       "    </tr>\n",
       "    <tr>\n",
       "      <th>5</th>\n",
       "      <td>2027</td>\n",
       "      <td>32738648</td>\n",
       "      <td>4146904</td>\n",
       "      <td>12.666693</td>\n",
       "      <td>1247.481646</td>\n",
       "      <td>158.014653</td>\n",
       "    </tr>\n",
       "    <tr>\n",
       "      <th>6</th>\n",
       "      <td>2028</td>\n",
       "      <td>34308762</td>\n",
       "      <td>6163436</td>\n",
       "      <td>17.964612</td>\n",
       "      <td>1307.309663</td>\n",
       "      <td>234.853109</td>\n",
       "    </tr>\n",
       "    <tr>\n",
       "      <th>7</th>\n",
       "      <td>2029</td>\n",
       "      <td>35954177</td>\n",
       "      <td>9160556</td>\n",
       "      <td>25.478419</td>\n",
       "      <td>1370.006968</td>\n",
       "      <td>349.056125</td>\n",
       "    </tr>\n",
       "    <tr>\n",
       "      <th>8</th>\n",
       "      <td>2030</td>\n",
       "      <td>37678505</td>\n",
       "      <td>13615099</td>\n",
       "      <td>36.134924</td>\n",
       "      <td>1435.711194</td>\n",
       "      <td>518.793127</td>\n",
       "    </tr>\n",
       "  </tbody>\n",
       "</table>\n",
       "</div>"
      ],
      "text/plain": [
       "   Year Total vehicles  No of EV EV market share (selling percent yearwise)  \\\n",
       "0  2022       25902352    571780                                   2.207444   \n",
       "1  2023       27144604    849822                                   3.130722   \n",
       "2  2024       28446433   1263069                                   4.440167   \n",
       "3  2025       29810697   1877267                                   6.297293   \n",
       "4  2026       31240389   2790134                                   8.931176   \n",
       "5  2027       32738648   4146904                                  12.666693   \n",
       "6  2028       34308762   6163436                                  17.964612   \n",
       "7  2029       35954177   9160556                                  25.478419   \n",
       "8  2030       37678505  13615099                                  36.134924   \n",
       "\n",
       "  Total vehicles oil consump (in Mb)  oil consump reduced bcoz of EV (in Mb)  \n",
       "0                          986.98971                               21.787260  \n",
       "1                        1034.324792                               32.381843  \n",
       "2                         1083.93001                               48.128299  \n",
       "3                        1135.914267                               71.531851  \n",
       "4                        1190.391609                              106.315947  \n",
       "5                        1247.481646                              158.014653  \n",
       "6                        1307.309663                              234.853109  \n",
       "7                        1370.006968                              349.056125  \n",
       "8                        1435.711194                              518.793127  "
      ]
     },
     "execution_count": 26,
     "metadata": {},
     "output_type": "execute_result"
    }
   ],
   "source": [
    "# Predicting expected total vehicles year wise\n",
    "t_future = y_pred_future_total[2:]\n",
    "year_future = 2021\n",
    "future_ev_df = pd.DataFrame(columns=['Year','Total vehicles'])\n",
    "for i in range(0,97,12):\n",
    "  sum = t_future[i:i+12].sum()\n",
    "  year_future += 1\n",
    "  future_ev_df = future_ev_df.append({'Year':year_future, 'Total vehicles':round(sum)},ignore_index=True)\n",
    "\n",
    "future_ev_df['Year'] = future_ev_df['Year'].astype(int)\n",
    "future_ev_df['No of EV'] = reduction_df['No of EV']\n",
    "future_ev_df['EV market share (selling percent yearwise)'] = (future_ev_df['No of EV']/future_ev_df['Total vehicles'])*100    #EV selling percentage yearwise\n",
    "future_ev_df['Total vehicles oil consump (in Mb)'] = ((diesel_vehicle_percent * future_ev_df['Total vehicles'] * avg_diesel_per_vehicle)+(petrol_vehicle_percent * future_ev_df['Total vehicles'] * avg_petrol_per_vehicle))/1000000\n",
    "future_ev_df['oil consump reduced bcoz of EV (in Mb)'] = reduction_df['Reduced DP (in Mb)']\n",
    "future_ev_df"
   ]
  },
  {
   "cell_type": "code",
   "execution_count": 27,
   "metadata": {
    "colab": {
     "base_uri": "https://localhost:8080/",
     "height": 388
    },
    "executionInfo": {
     "elapsed": 23,
     "status": "ok",
     "timestamp": 1637343503949,
     "user": {
      "displayName": "DATA MIMING",
      "photoUrl": "https://lh3.googleusercontent.com/a/default-user=s64",
      "userId": "13943601287099034839"
     },
     "user_tz": -330
    },
    "id": "BD43tluICDRR",
    "outputId": "83a332e3-e414-4de3-c745-0843c8260e6f"
   },
   "outputs": [
    {
     "data": {
      "image/png": "[encoded data removed]",
      "text/plain": [
       "<Figure size 720x432 with 1 Axes>"
      ]
     },
     "metadata": {
      "needs_background": "light"
     },
     "output_type": "display_data"
    }
   ],
   "source": [
    "# Plotting graph shows expected EV market share in Auto mobile sector year wise\n",
    "plt.figure(figsize=(10,6))\n",
    "plt.bar(x=future_ev_df['Year'], height=future_ev_df['EV market share (selling percent yearwise)'])\n",
    "plt.plot(future_ev_df['Year'], future_ev_df['EV market share (selling percent yearwise)'],'r')\n",
    "plt.xlabel('Year')\n",
    "plt.ylabel('EV market share in Auto mobile sector (in future)')\n",
    "plt.savefig('output/EV market share in Auto mobile sector (in future).jpg')\n",
    "plt.show()"
   ]
  },
  {
   "cell_type": "markdown",
   "metadata": {
    "id": "1JjFwgApNz64"
   },
   "source": [
    "### **EV electricity consumption**"
   ]
  },
  {
   "cell_type": "code",
   "execution_count": 28,
   "metadata": {
    "colab": {
     "base_uri": "https://localhost:8080/",
     "height": 488
    },
    "executionInfo": {
     "elapsed": 22,
     "status": "ok",
     "timestamp": 1637343503950,
     "user": {
      "displayName": "DATA MIMING",
      "photoUrl": "https://lh3.googleusercontent.com/a/default-user=s64",
      "userId": "13943601287099034839"
     },
     "user_tz": -330
    },
    "id": "Xgy7mHG1FRfh",
    "outputId": "6fe4c620-2985-476d-f633-9933125fb764"
   },
   "outputs": [
    {
     "data": {
      "text/html": [
       "<div>\n",
       "<style scoped>\n",
       "    .dataframe tbody tr th:only-of-type {\n",
       "        vertical-align: middle;\n",
       "    }\n",
       "\n",
       "    .dataframe tbody tr th {\n",
       "        vertical-align: top;\n",
       "    }\n",
       "\n",
       "    .dataframe thead th {\n",
       "        text-align: right;\n",
       "    }\n",
       "</style>\n",
       "<table border=\"1\" class=\"dataframe\">\n",
       "  <thead>\n",
       "    <tr style=\"text-align: right;\">\n",
       "      <th></th>\n",
       "      <th>EV Type</th>\n",
       "      <th>Daily kms driven</th>\n",
       "      <th>Battery capacity in kWh</th>\n",
       "      <th>Driving range in km/full charge</th>\n",
       "      <th>Daily charging demand in kWh</th>\n",
       "      <th>Unnamed: 5</th>\n",
       "    </tr>\n",
       "  </thead>\n",
       "  <tbody>\n",
       "    <tr>\n",
       "      <th>0</th>\n",
       "      <td>E-RICKSHAW(P)</td>\n",
       "      <td>120</td>\n",
       "      <td>7.0</td>\n",
       "      <td>100</td>\n",
       "      <td>8.40</td>\n",
       "      <td>NaN</td>\n",
       "    </tr>\n",
       "    <tr>\n",
       "      <th>1</th>\n",
       "      <td>E-RICKSHAW WITH CART (G)</td>\n",
       "      <td>120</td>\n",
       "      <td>7.0</td>\n",
       "      <td>100</td>\n",
       "      <td>8.40</td>\n",
       "      <td>NaN</td>\n",
       "    </tr>\n",
       "    <tr>\n",
       "      <th>2</th>\n",
       "      <td>LUXURY CAB</td>\n",
       "      <td>100</td>\n",
       "      <td>21.2</td>\n",
       "      <td>181</td>\n",
       "      <td>12.00</td>\n",
       "      <td>NaN</td>\n",
       "    </tr>\n",
       "    <tr>\n",
       "      <th>3</th>\n",
       "      <td>M-CYCLE/SCOOTER</td>\n",
       "      <td>40</td>\n",
       "      <td>2.5</td>\n",
       "      <td>80</td>\n",
       "      <td>1.25</td>\n",
       "      <td>NaN</td>\n",
       "    </tr>\n",
       "    <tr>\n",
       "      <th>4</th>\n",
       "      <td>M-CYCLE/SCOOTER-WITH SIDE CAR</td>\n",
       "      <td>40</td>\n",
       "      <td>2.5</td>\n",
       "      <td>80</td>\n",
       "      <td>1.25</td>\n",
       "      <td>NaN</td>\n",
       "    </tr>\n",
       "    <tr>\n",
       "      <th>5</th>\n",
       "      <td>MOPED</td>\n",
       "      <td>40</td>\n",
       "      <td>2.5</td>\n",
       "      <td>80</td>\n",
       "      <td>1.25</td>\n",
       "      <td>NaN</td>\n",
       "    </tr>\n",
       "    <tr>\n",
       "      <th>6</th>\n",
       "      <td>MOTOR CAB</td>\n",
       "      <td>100</td>\n",
       "      <td>21.2</td>\n",
       "      <td>181</td>\n",
       "      <td>12.00</td>\n",
       "      <td>NaN</td>\n",
       "    </tr>\n",
       "    <tr>\n",
       "      <th>7</th>\n",
       "      <td>MOTOR CAR</td>\n",
       "      <td>40</td>\n",
       "      <td>30.2</td>\n",
       "      <td>312</td>\n",
       "      <td>4.00</td>\n",
       "      <td>NaN</td>\n",
       "    </tr>\n",
       "    <tr>\n",
       "      <th>8</th>\n",
       "      <td>MOTOR CYCLE/SCOOTER-USED FOR HIRE</td>\n",
       "      <td>40</td>\n",
       "      <td>2.5</td>\n",
       "      <td>80</td>\n",
       "      <td>1.25</td>\n",
       "      <td>NaN</td>\n",
       "    </tr>\n",
       "    <tr>\n",
       "      <th>9</th>\n",
       "      <td>MOTORISED CYCLE (CC &gt; 25CC)</td>\n",
       "      <td>40</td>\n",
       "      <td>2.5</td>\n",
       "      <td>80</td>\n",
       "      <td>1.25</td>\n",
       "      <td>NaN</td>\n",
       "    </tr>\n",
       "    <tr>\n",
       "      <th>10</th>\n",
       "      <td>THREE WHEELER (GOODS)</td>\n",
       "      <td>120</td>\n",
       "      <td>7.0</td>\n",
       "      <td>100</td>\n",
       "      <td>8.40</td>\n",
       "      <td>NaN</td>\n",
       "    </tr>\n",
       "    <tr>\n",
       "      <th>11</th>\n",
       "      <td>THREE WHEELER (PASSENGER)</td>\n",
       "      <td>120</td>\n",
       "      <td>7.0</td>\n",
       "      <td>100</td>\n",
       "      <td>8.40</td>\n",
       "      <td>NaN</td>\n",
       "    </tr>\n",
       "    <tr>\n",
       "      <th>12</th>\n",
       "      <td>THREE WHEELER (PERSONAL)</td>\n",
       "      <td>120</td>\n",
       "      <td>7.0</td>\n",
       "      <td>100</td>\n",
       "      <td>8.40</td>\n",
       "      <td>NaN</td>\n",
       "    </tr>\n",
       "    <tr>\n",
       "      <th>13</th>\n",
       "      <td>BUS</td>\n",
       "      <td>200</td>\n",
       "      <td>125.0</td>\n",
       "      <td>125</td>\n",
       "      <td>200.00</td>\n",
       "      <td>NaN</td>\n",
       "    </tr>\n",
       "  </tbody>\n",
       "</table>\n",
       "</div>"
      ],
      "text/plain": [
       "                              EV Type  Daily kms driven    \\\n",
       "0                       E-RICKSHAW(P)                 120   \n",
       "1            E-RICKSHAW WITH CART (G)                 120   \n",
       "2                          LUXURY CAB                 100   \n",
       "3                     M-CYCLE/SCOOTER                  40   \n",
       "4       M-CYCLE/SCOOTER-WITH SIDE CAR                  40   \n",
       "5                               MOPED                  40   \n",
       "6                           MOTOR CAB                 100   \n",
       "7                           MOTOR CAR                  40   \n",
       "8   MOTOR CYCLE/SCOOTER-USED FOR HIRE                  40   \n",
       "9         MOTORISED CYCLE (CC > 25CC)                  40   \n",
       "10              THREE WHEELER (GOODS)                 120   \n",
       "11          THREE WHEELER (PASSENGER)                 120   \n",
       "12           THREE WHEELER (PERSONAL)                 120   \n",
       "13                                BUS                 200   \n",
       "\n",
       "     Battery capacity in kWh  Driving range in km/full charge  \\\n",
       "0                        7.0                              100   \n",
       "1                        7.0                              100   \n",
       "2                       21.2                              181   \n",
       "3                        2.5                               80   \n",
       "4                        2.5                               80   \n",
       "5                        2.5                               80   \n",
       "6                       21.2                              181   \n",
       "7                       30.2                              312   \n",
       "8                        2.5                               80   \n",
       "9                        2.5                               80   \n",
       "10                       7.0                              100   \n",
       "11                       7.0                              100   \n",
       "12                       7.0                              100   \n",
       "13                     125.0                              125   \n",
       "\n",
       "    Daily charging demand in kWh  Unnamed: 5  \n",
       "0                           8.40         NaN  \n",
       "1                           8.40         NaN  \n",
       "2                          12.00         NaN  \n",
       "3                           1.25         NaN  \n",
       "4                           1.25         NaN  \n",
       "5                           1.25         NaN  \n",
       "6                          12.00         NaN  \n",
       "7                           4.00         NaN  \n",
       "8                           1.25         NaN  \n",
       "9                           1.25         NaN  \n",
       "10                          8.40         NaN  \n",
       "11                          8.40         NaN  \n",
       "12                          8.40         NaN  \n",
       "13                        200.00         NaN  "
      ]
     },
     "execution_count": 28,
     "metadata": {},
     "output_type": "execute_result"
    }
   ],
   "source": [
    "elect_consumption = pd.read_excel('../Data sets/Electricity consumed by EVs/EV_Electricity_consumption.xlsx')\n",
    "elect_requied_mean = np.mean(elect_consumption['Daily charging demand in kWh']*365)\n",
    "elect_consumption"
   ]
  },
  {
   "cell_type": "code",
   "execution_count": 29,
   "metadata": {
    "colab": {
     "base_uri": "https://localhost:8080/"
    },
    "executionInfo": {
     "elapsed": 21,
     "status": "ok",
     "timestamp": 1637343503950,
     "user": {
      "displayName": "DATA MIMING",
      "photoUrl": "https://lh3.googleusercontent.com/a/default-user=s64",
      "userId": "13943601287099034839"
     },
     "user_tz": -330
    },
    "id": "G2gxsid9PIoe",
    "outputId": "f7017fb4-a358-4e41-ab79-6622b7b10631"
   },
   "outputs": [
    {
     "name": "stdout",
     "output_type": "stream",
     "text": [
      "Yearly electricity required to charge EV:  7202.232142857143  kWh\n"
     ]
    }
   ],
   "source": [
    "print('Yearly electricity required to charge EV: ',elect_requied_mean,' kWh')"
   ]
  },
  {
   "cell_type": "code",
   "execution_count": 30,
   "metadata": {
    "colab": {
     "base_uri": "https://localhost:8080/",
     "height": 349
    },
    "executionInfo": {
     "elapsed": 16,
     "status": "ok",
     "timestamp": 1637343503950,
     "user": {
      "displayName": "DATA MIMING",
      "photoUrl": "https://lh3.googleusercontent.com/a/default-user=s64",
      "userId": "13943601287099034839"
     },
     "user_tz": -330
    },
    "id": "oxAqCT15eBVQ",
    "outputId": "4fc3ebaa-c9f3-4fa4-e8e5-3d105f7160d2",
    "scrolled": true
   },
   "outputs": [
    {
     "data": {
      "text/html": [
       "<div>\n",
       "<style scoped>\n",
       "    .dataframe tbody tr th:only-of-type {\n",
       "        vertical-align: middle;\n",
       "    }\n",
       "\n",
       "    .dataframe tbody tr th {\n",
       "        vertical-align: top;\n",
       "    }\n",
       "\n",
       "    .dataframe thead th {\n",
       "        text-align: right;\n",
       "    }\n",
       "</style>\n",
       "<table border=\"1\" class=\"dataframe\">\n",
       "  <thead>\n",
       "    <tr style=\"text-align: right;\">\n",
       "      <th></th>\n",
       "      <th>Year</th>\n",
       "      <th>Total vehicles</th>\n",
       "      <th>No of EV</th>\n",
       "      <th>EV market share (selling percent yearwise)</th>\n",
       "      <th>Total vehicles oil consump (in Mb)</th>\n",
       "      <th>oil consump reduced bcoz of EV (in Mb)</th>\n",
       "      <th>electricity required (kWh)</th>\n",
       "    </tr>\n",
       "  </thead>\n",
       "  <tbody>\n",
       "    <tr>\n",
       "      <th>0</th>\n",
       "      <td>2022</td>\n",
       "      <td>25902352</td>\n",
       "      <td>571780</td>\n",
       "      <td>2.207444</td>\n",
       "      <td>986.98971</td>\n",
       "      <td>21.787260</td>\n",
       "      <td>4.118092e+09</td>\n",
       "    </tr>\n",
       "    <tr>\n",
       "      <th>1</th>\n",
       "      <td>2023</td>\n",
       "      <td>27144604</td>\n",
       "      <td>849822</td>\n",
       "      <td>3.130722</td>\n",
       "      <td>1034.324792</td>\n",
       "      <td>32.381843</td>\n",
       "      <td>6.120615e+09</td>\n",
       "    </tr>\n",
       "    <tr>\n",
       "      <th>2</th>\n",
       "      <td>2024</td>\n",
       "      <td>28446433</td>\n",
       "      <td>1263069</td>\n",
       "      <td>4.440167</td>\n",
       "      <td>1083.93001</td>\n",
       "      <td>48.128299</td>\n",
       "      <td>9.096916e+09</td>\n",
       "    </tr>\n",
       "    <tr>\n",
       "      <th>3</th>\n",
       "      <td>2025</td>\n",
       "      <td>29810697</td>\n",
       "      <td>1877267</td>\n",
       "      <td>6.297293</td>\n",
       "      <td>1135.914267</td>\n",
       "      <td>71.531851</td>\n",
       "      <td>1.352051e+10</td>\n",
       "    </tr>\n",
       "    <tr>\n",
       "      <th>4</th>\n",
       "      <td>2026</td>\n",
       "      <td>31240389</td>\n",
       "      <td>2790134</td>\n",
       "      <td>8.931176</td>\n",
       "      <td>1190.391609</td>\n",
       "      <td>106.315947</td>\n",
       "      <td>2.009519e+10</td>\n",
       "    </tr>\n",
       "    <tr>\n",
       "      <th>5</th>\n",
       "      <td>2027</td>\n",
       "      <td>32738648</td>\n",
       "      <td>4146904</td>\n",
       "      <td>12.666693</td>\n",
       "      <td>1247.481646</td>\n",
       "      <td>158.014653</td>\n",
       "      <td>2.986697e+10</td>\n",
       "    </tr>\n",
       "    <tr>\n",
       "      <th>6</th>\n",
       "      <td>2028</td>\n",
       "      <td>34308762</td>\n",
       "      <td>6163436</td>\n",
       "      <td>17.964612</td>\n",
       "      <td>1307.309663</td>\n",
       "      <td>234.853109</td>\n",
       "      <td>4.439050e+10</td>\n",
       "    </tr>\n",
       "    <tr>\n",
       "      <th>7</th>\n",
       "      <td>2029</td>\n",
       "      <td>35954177</td>\n",
       "      <td>9160556</td>\n",
       "      <td>25.478419</td>\n",
       "      <td>1370.006968</td>\n",
       "      <td>349.056125</td>\n",
       "      <td>6.597645e+10</td>\n",
       "    </tr>\n",
       "    <tr>\n",
       "      <th>8</th>\n",
       "      <td>2030</td>\n",
       "      <td>37678505</td>\n",
       "      <td>13615099</td>\n",
       "      <td>36.134924</td>\n",
       "      <td>1435.711194</td>\n",
       "      <td>518.793127</td>\n",
       "      <td>9.805910e+10</td>\n",
       "    </tr>\n",
       "  </tbody>\n",
       "</table>\n",
       "</div>"
      ],
      "text/plain": [
       "   Year Total vehicles  No of EV EV market share (selling percent yearwise)  \\\n",
       "0  2022       25902352    571780                                   2.207444   \n",
       "1  2023       27144604    849822                                   3.130722   \n",
       "2  2024       28446433   1263069                                   4.440167   \n",
       "3  2025       29810697   1877267                                   6.297293   \n",
       "4  2026       31240389   2790134                                   8.931176   \n",
       "5  2027       32738648   4146904                                  12.666693   \n",
       "6  2028       34308762   6163436                                  17.964612   \n",
       "7  2029       35954177   9160556                                  25.478419   \n",
       "8  2030       37678505  13615099                                  36.134924   \n",
       "\n",
       "  Total vehicles oil consump (in Mb)  oil consump reduced bcoz of EV (in Mb)  \\\n",
       "0                          986.98971                               21.787260   \n",
       "1                        1034.324792                               32.381843   \n",
       "2                         1083.93001                               48.128299   \n",
       "3                        1135.914267                               71.531851   \n",
       "4                        1190.391609                              106.315947   \n",
       "5                        1247.481646                              158.014653   \n",
       "6                        1307.309663                              234.853109   \n",
       "7                        1370.006968                              349.056125   \n",
       "8                        1435.711194                              518.793127   \n",
       "\n",
       "   electricity required (kWh)  \n",
       "0                4.118092e+09  \n",
       "1                6.120615e+09  \n",
       "2                9.096916e+09  \n",
       "3                1.352051e+10  \n",
       "4                2.009519e+10  \n",
       "5                2.986697e+10  \n",
       "6                4.439050e+10  \n",
       "7                6.597645e+10  \n",
       "8                9.805910e+10  "
      ]
     },
     "execution_count": 30,
     "metadata": {},
     "output_type": "execute_result"
    }
   ],
   "source": [
    "future_ev_df['electricity required (kWh)'] = future_ev_df['No of EV'] * elect_requied_mean\n",
    "future_ev_df"
   ]
  },
  {
   "cell_type": "code",
   "execution_count": 31,
   "metadata": {
    "colab": {
     "base_uri": "https://localhost:8080/",
     "height": 399
    },
    "executionInfo": {
     "elapsed": 16,
     "status": "ok",
     "timestamp": 1637343503951,
     "user": {
      "displayName": "DATA MIMING",
      "photoUrl": "https://lh3.googleusercontent.com/a/default-user=s64",
      "userId": "13943601287099034839"
     },
     "user_tz": -330
    },
    "id": "Fyi2f2wYQfHw",
    "outputId": "706c7207-1c37-49a7-c477-e43f08edf859"
   },
   "outputs": [
    {
     "data": {
      "image/png": "[encoded data removed]",
      "text/plain": [
       "<Figure size 720x432 with 1 Axes>"
      ]
     },
     "metadata": {
      "needs_background": "light"
     },
     "output_type": "display_data"
    }
   ],
   "source": [
    "# Plotting graph shows expected Electricity required to charge EV year wise\n",
    "plt.figure(figsize=(10,6))\n",
    "plt.bar(x=future_ev_df['Year'], height=future_ev_df['electricity required (kWh)'])\n",
    "plt.plot(future_ev_df['Year'], future_ev_df['electricity required (kWh)'],'r')\n",
    "plt.xlabel('Year')\n",
    "plt.ylabel('Electricity required to charge EV (in kWh)')\n",
    "plt.savefig('output/Electricity required to charge EV (in kWh).jpg')\n",
    "plt.show()"
   ]
  },
  {
   "cell_type": "markdown",
   "metadata": {
    "id": "ZrcyzrgxXC3o"
   },
   "source": [
    "### **Oil import vs oil import price**"
   ]
  },
  {
   "cell_type": "markdown",
   "metadata": {
    "id": "wvLgF1f1QQJO"
   },
   "source": [
    "**Data gathering and preprocessing of Oil prices of past years**"
   ]
  },
  {
   "cell_type": "code",
   "execution_count": 32,
   "metadata": {
    "colab": {
     "base_uri": "https://localhost:8080/"
    },
    "executionInfo": {
     "elapsed": 15,
     "status": "ok",
     "timestamp": 1637343503951,
     "user": {
      "displayName": "DATA MIMING",
      "photoUrl": "https://lh3.googleusercontent.com/a/default-user=s64",
      "userId": "13943601287099034839"
     },
     "user_tz": -330
    },
    "id": "KliAyrJPF1u-",
    "outputId": "6c9b276b-3627-4f6a-e500-bead13b7d25a"
   },
   "outputs": [
    {
     "data": {
      "text/plain": [
       "259"
      ]
     },
     "execution_count": 32,
     "metadata": {},
     "output_type": "execute_result"
    }
   ],
   "source": [
    "oil_prices = pd.read_csv('../Data sets/Oil Data/oil_prices_modified.csv')\n",
    "len(oil_prices)"
   ]
  },
  {
   "cell_type": "code",
   "execution_count": 33,
   "metadata": {
    "executionInfo": {
     "elapsed": 13,
     "status": "ok",
     "timestamp": 1637343503951,
     "user": {
      "displayName": "DATA MIMING",
      "photoUrl": "https://lh3.googleusercontent.com/a/default-user=s64",
      "userId": "13943601287099034839"
     },
     "user_tz": -330
    },
    "id": "ipHAG0YIQnvP"
   },
   "outputs": [],
   "source": [
    "oil_price_columns = ['month', 'year', 'price(Rs./bbl)']\n",
    "oil_price_df = pd.DataFrame(columns=oil_price_columns)\n",
    "month_map = {'01' : 'JAN', '02' : 'FEB', '03' : 'MAR', '04' : 'APR', '05' : 'MAY', '06' : 'JUN', '07' : 'JUL', \n",
    "             '08' : 'AUG', '09' : 'SEP', '10' : 'OCT', '11' : 'NOV', '12' : 'DEC'}"
   ]
  },
  {
   "cell_type": "code",
   "execution_count": 34,
   "metadata": {
    "executionInfo": {
     "elapsed": 6,
     "status": "ok",
     "timestamp": 1637343504317,
     "user": {
      "displayName": "DATA MIMING",
      "photoUrl": "https://lh3.googleusercontent.com/a/default-user=s64",
      "userId": "13943601287099034839"
     },
     "user_tz": -330
    },
    "id": "oiqdl5WTGHG6"
   },
   "outputs": [],
   "source": [
    "oil_price_columns = ['month', 'year', 'price(Rs./bbl)']\n",
    "oil_price_df = pd.DataFrame(columns=oil_price_columns)\n",
    "\n",
    "for idx, row in oil_prices.iterrows():\n",
    "    day = row[str(oil_prices.columns[0])]\n",
    "    price = row[str(oil_prices.columns[6])]\n",
    "    if isinstance(day, float) or isinstance(price, float):\n",
    "        continue\n",
    "    \n",
    "    month = day[3:5]\n",
    "    if month in month_map :\n",
    "        year = '20' + day[6:]\n",
    "        month = month_map[month]\n",
    "        price = int(float(price.replace(',', '')))\n",
    "        oil_price_df.loc[len(oil_price_df.index)] = [month, year, price]\n",
    "        #print(month, year, price)"
   ]
  },
  {
   "cell_type": "code",
   "execution_count": 35,
   "metadata": {
    "colab": {
     "base_uri": "https://localhost:8080/",
     "height": 424
    },
    "executionInfo": {
     "elapsed": 7,
     "status": "ok",
     "timestamp": 1637343504318,
     "user": {
      "displayName": "DATA MIMING",
      "photoUrl": "https://lh3.googleusercontent.com/a/default-user=s64",
      "userId": "13943601287099034839"
     },
     "user_tz": -330
    },
    "id": "10fCg8_eRA6Z",
    "outputId": "8e72a6f5-65e8-470e-abfb-f7dccc09c98f"
   },
   "outputs": [
    {
     "data": {
      "text/html": [
       "<div>\n",
       "<style scoped>\n",
       "    .dataframe tbody tr th:only-of-type {\n",
       "        vertical-align: middle;\n",
       "    }\n",
       "\n",
       "    .dataframe tbody tr th {\n",
       "        vertical-align: top;\n",
       "    }\n",
       "\n",
       "    .dataframe thead th {\n",
       "        text-align: right;\n",
       "    }\n",
       "</style>\n",
       "<table border=\"1\" class=\"dataframe\">\n",
       "  <thead>\n",
       "    <tr style=\"text-align: right;\">\n",
       "      <th></th>\n",
       "      <th>month</th>\n",
       "      <th>year</th>\n",
       "      <th>price(Rs./bbl)</th>\n",
       "    </tr>\n",
       "  </thead>\n",
       "  <tbody>\n",
       "    <tr>\n",
       "      <th>0</th>\n",
       "      <td>APR</td>\n",
       "      <td>2011</td>\n",
       "      <td>4956</td>\n",
       "    </tr>\n",
       "    <tr>\n",
       "      <th>1</th>\n",
       "      <td>MAY</td>\n",
       "      <td>2011</td>\n",
       "      <td>5283</td>\n",
       "    </tr>\n",
       "    <tr>\n",
       "      <th>2</th>\n",
       "      <td>JUN</td>\n",
       "      <td>2011</td>\n",
       "      <td>4918</td>\n",
       "    </tr>\n",
       "    <tr>\n",
       "      <th>3</th>\n",
       "      <td>JUL</td>\n",
       "      <td>2011</td>\n",
       "      <td>4865</td>\n",
       "    </tr>\n",
       "    <tr>\n",
       "      <th>4</th>\n",
       "      <td>AUG</td>\n",
       "      <td>2011</td>\n",
       "      <td>5057</td>\n",
       "    </tr>\n",
       "    <tr>\n",
       "      <th>...</th>\n",
       "      <td>...</td>\n",
       "      <td>...</td>\n",
       "      <td>...</td>\n",
       "    </tr>\n",
       "    <tr>\n",
       "      <th>115</th>\n",
       "      <td>NOV</td>\n",
       "      <td>2020</td>\n",
       "      <td>3010</td>\n",
       "    </tr>\n",
       "    <tr>\n",
       "      <th>116</th>\n",
       "      <td>DEC</td>\n",
       "      <td>2020</td>\n",
       "      <td>3077</td>\n",
       "    </tr>\n",
       "    <tr>\n",
       "      <th>117</th>\n",
       "      <td>JAN</td>\n",
       "      <td>2021</td>\n",
       "      <td>3643</td>\n",
       "    </tr>\n",
       "    <tr>\n",
       "      <th>118</th>\n",
       "      <td>FEB</td>\n",
       "      <td>2021</td>\n",
       "      <td>3979</td>\n",
       "    </tr>\n",
       "    <tr>\n",
       "      <th>119</th>\n",
       "      <td>MAR</td>\n",
       "      <td>2021</td>\n",
       "      <td>4375</td>\n",
       "    </tr>\n",
       "  </tbody>\n",
       "</table>\n",
       "<p>120 rows × 3 columns</p>\n",
       "</div>"
      ],
      "text/plain": [
       "    month  year price(Rs./bbl)\n",
       "0     APR  2011           4956\n",
       "1     MAY  2011           5283\n",
       "2     JUN  2011           4918\n",
       "3     JUL  2011           4865\n",
       "4     AUG  2011           5057\n",
       "..    ...   ...            ...\n",
       "115   NOV  2020           3010\n",
       "116   DEC  2020           3077\n",
       "117   JAN  2021           3643\n",
       "118   FEB  2021           3979\n",
       "119   MAR  2021           4375\n",
       "\n",
       "[120 rows x 3 columns]"
      ]
     },
     "execution_count": 35,
     "metadata": {},
     "output_type": "execute_result"
    }
   ],
   "source": [
    "## Oil_price_df gives the monthwise price(Rs./bbl) of imported oil\n",
    "oil_price_df = oil_price_df[0:120]\n",
    "oil_price_df"
   ]
  },
  {
   "cell_type": "markdown",
   "metadata": {
    "id": "6KfdO4d5Oh_4"
   },
   "source": [
    "**Visualization of Oil import price against past year(month-wise)**"
   ]
  },
  {
   "cell_type": "code",
   "execution_count": 36,
   "metadata": {
    "colab": {
     "base_uri": "https://localhost:8080/",
     "height": 279
    },
    "executionInfo": {
     "elapsed": 931,
     "status": "ok",
     "timestamp": 1637343505243,
     "user": {
      "displayName": "DATA MIMING",
      "photoUrl": "https://lh3.googleusercontent.com/a/default-user=s64",
      "userId": "13943601287099034839"
     },
     "user_tz": -330
    },
    "id": "dLrhM0VBNJPv",
    "outputId": "8afa4f17-b7f0-4591-f825-6e17c2549441"
   },
   "outputs": [
    {
     "data": {
      "image/png": "[encoded data removed]",
      "text/plain": [
       "<Figure size 432x288 with 1 Axes>"
      ]
     },
     "metadata": {
      "needs_background": "light"
     },
     "output_type": "display_data"
    }
   ],
   "source": [
    "y_y = oil_price_df['price(Rs./bbl)'].tolist()\n",
    "x_x = list(range(0,120))\n",
    "plt.plot(x_x, y_y, color='red',)\n",
    "plt.xlabel('Months (Jan-2011 to March-2021)')\n",
    "plt.ylabel('Oil import price (in Rs./bbl)')\n",
    "plt.show()"
   ]
  },
  {
   "cell_type": "markdown",
   "metadata": {
    "id": "0ikID2GfSPxt"
   },
   "source": [
    "**Data gathering and preprocessing of Oil import (in bbl) of past years**"
   ]
  },
  {
   "cell_type": "code",
   "execution_count": 37,
   "metadata": {
    "colab": {
     "base_uri": "https://localhost:8080/"
    },
    "executionInfo": {
     "elapsed": 12,
     "status": "ok",
     "timestamp": 1637343505244,
     "user": {
      "displayName": "DATA MIMING",
      "photoUrl": "https://lh3.googleusercontent.com/a/default-user=s64",
      "userId": "13943601287099034839"
     },
     "user_tz": -330
    },
    "id": "okF94o4cBHF3",
    "outputId": "f7d754bb-ab3a-4b05-a591-d2933f186baf"
   },
   "outputs": [
    {
     "data": {
      "text/plain": [
       "0      115352210.0\n",
       "1      101036720.0\n",
       "2      102143550.0\n",
       "3      100787500.0\n",
       "4      104555120.0\n",
       "          ...     \n",
       "115    134065700.0\n",
       "116    150184370.0\n",
       "117    143624020.0\n",
       "118    111672550.0\n",
       "119    133853130.0\n",
       "Name: oil quantity(In Barrels), Length: 120, dtype: float64"
      ]
     },
     "execution_count": 37,
     "metadata": {},
     "output_type": "execute_result"
    }
   ],
   "source": [
    "import pandas as pd \n",
    "import numpy as np\n",
    "lis = []\n",
    "df  = pd.read_csv('../Data sets/Oil Data/Oil import 2011-12.csv')\n",
    "lis.append( df.iloc[9][1:13].values.tolist())\n",
    "df  = pd.read_csv('../Data sets/Oil Data/Oil import 2012-13.csv')\n",
    "lis.append( df.iloc[9][1:13].values.tolist())\n",
    "df  = pd.read_csv('../Data sets/Oil Data/Oil import 2013-14.csv')\n",
    "lis.append( df.iloc[9][1:13].values.tolist())\n",
    "df  = pd.read_csv('../Data sets/Oil Data/Oil import 2014-15.csv')\n",
    "lis.append( df.iloc[8][1:13].values.tolist())\n",
    "df  = pd.read_csv('../Data sets/Oil Data/Oil import 2015-16.csv')\n",
    "lis.append( df.iloc[8][1:13].values.tolist())\n",
    "df  = pd.read_csv('../Data sets/Oil Data/Oil import 2016-17.csv')\n",
    "lis.append( df.iloc[8][1:13].values.tolist())\n",
    "df  = pd.read_csv('../Data sets/Oil Data/Oil import 2017-18.csv')\n",
    "lis.append( df.iloc[8][1:13].values.tolist())\n",
    "df  = pd.read_csv('../Data sets/Oil Data/Oil import 2018-19.csv')\n",
    "lis.append( df.iloc[8][1:13].values.tolist())\n",
    "df  = pd.read_csv('../Data sets/Oil Data/Oil import 2019-20.csv')\n",
    "lis.append( df.iloc[8][1:13].values.tolist())\n",
    "df  = pd.read_csv('../Data sets/Oil Data/Oil import 2020-21.csv')\n",
    "lis.append( df.iloc[8][1:13].values.tolist())\n",
    "\n",
    "result = []\n",
    "for sublist in lis:\n",
    "    for item in sublist:\n",
    "        result.append(item)\n",
    "\n",
    "df_oil_import = pd.DataFrame(result,columns= {'oil'})\n",
    "df_oil_import['oil quantity(In Barrels)'] = df_oil_import['oil'].astype(float)*7330\n",
    "df_oil_import['oil quantity(In Barrels)']\n",
    "\n"
   ]
  },
  {
   "cell_type": "markdown",
   "metadata": {
    "id": "FsMVzItvPGCU"
   },
   "source": [
    "**Visualization of oil import(in bbl) past years**"
   ]
  },
  {
   "cell_type": "code",
   "execution_count": 38,
   "metadata": {
    "colab": {
     "base_uri": "https://localhost:8080/",
     "height": 290
    },
    "executionInfo": {
     "elapsed": 974,
     "status": "ok",
     "timestamp": 1637343506210,
     "user": {
      "displayName": "DATA MIMING",
      "photoUrl": "https://lh3.googleusercontent.com/a/default-user=s64",
      "userId": "13943601287099034839"
     },
     "user_tz": -330
    },
    "id": "sHHrMutySx56",
    "outputId": "51f38269-9523-4d64-aef3-bbe8814263bf"
   },
   "outputs": [
    {
     "data": {
      "image/png": "[encoded data removed]",
      "text/plain": [
       "<Figure size 432x288 with 1 Axes>"
      ]
     },
     "metadata": {
      "needs_background": "light"
     },
     "output_type": "display_data"
    }
   ],
   "source": [
    "y_y = df_oil_import['oil quantity(In Barrels)'].tolist()\n",
    "x_x = list(range(0,120))\n",
    "plt.plot(x_x, y_y, color='red',)\n",
    "plt.xlabel('Months (Jan-2011 to March-2021)')\n",
    "plt.ylabel('Oil import (in Barrels)')\n",
    "plt.show()"
   ]
  },
  {
   "cell_type": "markdown",
   "metadata": {
    "id": "133HkquMVhcz"
   },
   "source": [
    "**Model to Predict the Oil import price(Rs./bbl) based upon Oil Import(bbl)**"
   ]
  },
  {
   "cell_type": "code",
   "execution_count": 39,
   "metadata": {
    "colab": {
     "base_uri": "https://localhost:8080/"
    },
    "executionInfo": {
     "elapsed": 41,
     "status": "ok",
     "timestamp": 1637343506217,
     "user": {
      "displayName": "DATA MIMING",
      "photoUrl": "https://lh3.googleusercontent.com/a/default-user=s64",
      "userId": "13943601287099034839"
     },
     "user_tz": -330
    },
    "id": "LVH-EkGxVhCp",
    "outputId": "0f5f369e-5b73-4b7e-ba3b-9e94138eb557"
   },
   "outputs": [
    {
     "data": {
      "text/plain": [
       "LinearRegression()"
      ]
     },
     "execution_count": 39,
     "metadata": {},
     "output_type": "execute_result"
    }
   ],
   "source": [
    "# Separating input and output variable\n",
    "x = df_oil_import['oil quantity(In Barrels)']\n",
    "y = oil_price_df['price(Rs./bbl)']\n",
    "x1 = x.values.reshape(-1,1)\n",
    "y1 = y.values.reshape(-1,1)\n",
    "\n",
    "\n",
    "# Spliting data into train test data\n",
    "from sklearn.model_selection import train_test_split\n",
    "x_train, x_test, y_train, y_test = train_test_split(x1, y1, test_size=0.1)\n",
    "regressor = linear_model.LinearRegression()\n",
    "regressor.fit(x_train, y_train)\n"
   ]
  },
  {
   "cell_type": "code",
   "execution_count": 40,
   "metadata": {
    "colab": {
     "base_uri": "https://localhost:8080/"
    },
    "executionInfo": {
     "elapsed": 38,
     "status": "ok",
     "timestamp": 1637343506218,
     "user": {
      "displayName": "DATA MIMING",
      "photoUrl": "https://lh3.googleusercontent.com/a/default-user=s64",
      "userId": "13943601287099034839"
     },
     "user_tz": -330
    },
    "id": "C-rmIIICWalM",
    "outputId": "ddcb4eb7-ab7f-4812-d785-aa09854412a0"
   },
   "outputs": [
    {
     "data": {
      "text/plain": [
       "1234.6508175790289"
      ]
     },
     "execution_count": 40,
     "metadata": {},
     "output_type": "execute_result"
    }
   ],
   "source": [
    "## Root mean squared error\n",
    "y_pred_train = regressor.predict(x_train)\n",
    "y_intercept = regressor.intercept_\n",
    "coe = regressor.coef_[[0]]\n",
    "np.sqrt(mean_squared_error(y_train, y_pred_train))"
   ]
  },
  {
   "cell_type": "code",
   "execution_count": 41,
   "metadata": {
    "colab": {
     "base_uri": "https://localhost:8080/"
    },
    "executionInfo": {
     "elapsed": 35,
     "status": "ok",
     "timestamp": 1637343506218,
     "user": {
      "displayName": "DATA MIMING",
      "photoUrl": "https://lh3.googleusercontent.com/a/default-user=s64",
      "userId": "13943601287099034839"
     },
     "user_tz": -330
    },
    "id": "o6OIe8JTWpj6",
    "outputId": "dc2aaeca-29d6-4e58-a4e4-54fb633e466c"
   },
   "outputs": [
    {
     "data": {
      "text/plain": [
       "2113122.5743147163"
      ]
     },
     "execution_count": 41,
     "metadata": {},
     "output_type": "execute_result"
    }
   ],
   "source": [
    "## Mean squared error\n",
    "y_pred_test = regressor.predict(x_test)\n",
    "mean_squared_error(y_test, y_pred_test)"
   ]
  },
  {
   "cell_type": "code",
   "execution_count": 42,
   "metadata": {
    "colab": {
     "base_uri": "https://localhost:8080/"
    },
    "executionInfo": {
     "elapsed": 33,
     "status": "ok",
     "timestamp": 1637343506218,
     "user": {
      "displayName": "DATA MIMING",
      "photoUrl": "https://lh3.googleusercontent.com/a/default-user=s64",
      "userId": "13943601287099034839"
     },
     "user_tz": -330
    },
    "id": "IjrTrOOEW5mO",
    "outputId": "19ead078-4d64-46e4-bb01-056f5d0f5279"
   },
   "outputs": [
    {
     "data": {
      "text/plain": [
       "array([[5263.95484171]])"
      ]
     },
     "execution_count": 42,
     "metadata": {},
     "output_type": "execute_result"
    }
   ],
   "source": [
    "## Predicting the Oil price(Rs./Barrels) given the oil import (In Barrels)\n",
    "y_pred = regressor.predict([[100000000]])        ## Dummy pediction: 100M is the input as oil import in Barrels in month\n",
    "y_pred                                            ## y_pred gives the oil price (Rs./bbl)"
   ]
  },
  {
   "cell_type": "code",
   "execution_count": 43,
   "metadata": {
    "colab": {
     "base_uri": "https://localhost:8080/",
     "height": 279
    },
    "executionInfo": {
     "elapsed": 32,
     "status": "ok",
     "timestamp": 1637343506219,
     "user": {
      "displayName": "DATA MIMING",
      "photoUrl": "https://lh3.googleusercontent.com/a/default-user=s64",
      "userId": "13943601287099034839"
     },
     "user_tz": -330
    },
    "id": "H0nenSmyXgQb",
    "outputId": "3dfebbf3-f22f-4c75-d2c0-4e1dfdb85cbd"
   },
   "outputs": [
    {
     "data": {
      "image/png": "[encoded data removed]",
      "text/plain": [
       "<Figure size 432x288 with 1 Axes>"
      ]
     },
     "metadata": {
      "needs_background": "light"
     },
     "output_type": "display_data"
    }
   ],
   "source": [
    "## Plotting a graph Oil price Vs Oil Import\n",
    "\n",
    "plt.scatter(x,y)\n",
    "y = coe[0][0] * x + y_intercept[0]\n",
    "plt.plot(x, y, color='red',)\n",
    "plt.xlabel('Oil Import (In Barrels)')\n",
    "plt.ylabel('Oil price per barrel(Rs.)')\n",
    "plt.show()"
   ]
  },
  {
   "cell_type": "markdown",
   "metadata": {
    "id": "9IelFdz1wOZb"
   },
   "source": [
    "**Oil import price(Rs./bbl) prediction**"
   ]
  },
  {
   "cell_type": "code",
   "execution_count": 44,
   "metadata": {
    "colab": {
     "base_uri": "https://localhost:8080/",
     "height": 332
    },
    "executionInfo": {
     "elapsed": 31,
     "status": "ok",
     "timestamp": 1637343506219,
     "user": {
      "displayName": "DATA MIMING",
      "photoUrl": "https://lh3.googleusercontent.com/a/default-user=s64",
      "userId": "13943601287099034839"
     },
     "user_tz": -330
    },
    "id": "pfJuKcNT8S5b",
    "outputId": "e3aabcbf-8896-46f2-d558-733eb63babdd"
   },
   "outputs": [
    {
     "data": {
      "text/html": [
       "<div>\n",
       "<style scoped>\n",
       "    .dataframe tbody tr th:only-of-type {\n",
       "        vertical-align: middle;\n",
       "    }\n",
       "\n",
       "    .dataframe tbody tr th {\n",
       "        vertical-align: top;\n",
       "    }\n",
       "\n",
       "    .dataframe thead th {\n",
       "        text-align: right;\n",
       "    }\n",
       "</style>\n",
       "<table border=\"1\" class=\"dataframe\">\n",
       "  <thead>\n",
       "    <tr style=\"text-align: right;\">\n",
       "      <th></th>\n",
       "      <th>Year</th>\n",
       "      <th>import oil(Mbbl)</th>\n",
       "      <th>import price(Rs./bbl)</th>\n",
       "    </tr>\n",
       "  </thead>\n",
       "  <tbody>\n",
       "    <tr>\n",
       "      <th>0</th>\n",
       "      <td>2022</td>\n",
       "      <td>965.202450</td>\n",
       "      <td>4768.665599</td>\n",
       "    </tr>\n",
       "    <tr>\n",
       "      <th>1</th>\n",
       "      <td>2023</td>\n",
       "      <td>1001.942949</td>\n",
       "      <td>4630.671397</td>\n",
       "    </tr>\n",
       "    <tr>\n",
       "      <th>2</th>\n",
       "      <td>2024</td>\n",
       "      <td>1035.801711</td>\n",
       "      <td>4503.500751</td>\n",
       "    </tr>\n",
       "    <tr>\n",
       "      <th>3</th>\n",
       "      <td>2025</td>\n",
       "      <td>1064.382416</td>\n",
       "      <td>4396.154040</td>\n",
       "    </tr>\n",
       "    <tr>\n",
       "      <th>4</th>\n",
       "      <td>2026</td>\n",
       "      <td>1084.075662</td>\n",
       "      <td>4322.187875</td>\n",
       "    </tr>\n",
       "    <tr>\n",
       "      <th>5</th>\n",
       "      <td>2027</td>\n",
       "      <td>1089.466993</td>\n",
       "      <td>4301.938494</td>\n",
       "    </tr>\n",
       "    <tr>\n",
       "      <th>6</th>\n",
       "      <td>2028</td>\n",
       "      <td>1072.456554</td>\n",
       "      <td>4365.828263</td>\n",
       "    </tr>\n",
       "    <tr>\n",
       "      <th>7</th>\n",
       "      <td>2029</td>\n",
       "      <td>1020.950843</td>\n",
       "      <td>4559.279353</td>\n",
       "    </tr>\n",
       "    <tr>\n",
       "      <th>8</th>\n",
       "      <td>2030</td>\n",
       "      <td>916.918067</td>\n",
       "      <td>4950.017655</td>\n",
       "    </tr>\n",
       "  </tbody>\n",
       "</table>\n",
       "</div>"
      ],
      "text/plain": [
       "   Year  import oil(Mbbl)  import price(Rs./bbl)\n",
       "0  2022        965.202450            4768.665599\n",
       "1  2023       1001.942949            4630.671397\n",
       "2  2024       1035.801711            4503.500751\n",
       "3  2025       1064.382416            4396.154040\n",
       "4  2026       1084.075662            4322.187875\n",
       "5  2027       1089.466993            4301.938494\n",
       "6  2028       1072.456554            4365.828263\n",
       "7  2029       1020.950843            4559.279353\n",
       "8  2030        916.918067            4950.017655"
      ]
     },
     "execution_count": 44,
     "metadata": {},
     "output_type": "execute_result"
    }
   ],
   "source": [
    "ff = []                                                    ##ff will have oil price(Rs./bbl) for future import of oil\n",
    "future_ev_df['Resulting Consumption'] = future_ev_df['Total vehicles oil consump (in Mb)'] - future_ev_df['oil consump reduced bcoz of EV (in Mb)'] \n",
    "l2 = future_ev_df['Resulting Consumption'].tolist()        ##l2 have the oil consumption predicted from EV's analysis\n",
    "for i in range(0,len(l2)):\n",
    "  ff.append(regressor.predict([[(l2[i]*120000)]]))        ## 1440000/12 = 120000 (1440000 is multiplied in order to change consumption by vehicles(in Mb)\n",
    "                                                          ## to overall consumption(in bbl) yearly because oil consumed by transport sector is 70% of oil \n",
    "                                                          ## import by India and divided by 12 to get effective monthly oil import\n",
    "ip_list = []\n",
    "for i in range(0,len(ff)):\n",
    "  ip_list.append(ff[i][0][0])\n",
    "\n",
    "## Oil import prize estimation (Rs./bbl) for 2022-2030\n",
    "yrr = [2022,2023,2024,2025,2026,2027,2028,2029,2030]\n",
    "yrr_df =  pd.DataFrame(yrr,columns={'Year'})\n",
    "future_import_price = pd.DataFrame(ip_list,columns={'import price(Rs./bbl)'})\n",
    "future_import_oil = pd.DataFrame(l2,columns={'import oil(Mbbl)'})\n",
    "result_dff = pd.concat([yrr_df,future_import_oil, future_import_price], axis=1)\n",
    "result_dff                               "
   ]
  },
  {
   "cell_type": "markdown",
   "metadata": {
    "id": "l_YLjfKi3ddP"
   },
   "source": [
    "### **Oil import price vs Oil selling price** ##"
   ]
  },
  {
   "cell_type": "markdown",
   "metadata": {
    "id": "AL04fLAG3uQi"
   },
   "source": [
    "**Data collection and preprocessing**\n",
    "Reference: https://www.mycarhelpline.com/index.php?option=com_easyblog&view=entry&id=808&Itemid=91"
   ]
  },
  {
   "cell_type": "code",
   "execution_count": 45,
   "metadata": {
    "executionInfo": {
     "elapsed": 30,
     "status": "ok",
     "timestamp": 1637343506219,
     "user": {
      "displayName": "DATA MIMING",
      "photoUrl": "https://lh3.googleusercontent.com/a/default-user=s64",
      "userId": "13943601287099034839"
     },
     "user_tz": -330
    },
    "id": "ShIqKplk3rq2"
   },
   "outputs": [],
   "source": [
    "f = []                                  ## f will contain yearly price of imported oil in Rs./bbl\n",
    "\n",
    "for i in range(0,10):\n",
    "  f.append((oil_price_df['price(Rs./bbl)'][i*12:(i*12)+12]).mean())\n",
    "  \n",
    "op = pd.DataFrame(f,columns={'import yrly(Rs./bbl)'})   ## op dataframe has yearly price of imported oil\n",
    "\n",
    "##sell data is petrolium price from year 2011 to 2021\n",
    "sell = \t[66.09,72.26,60.49,59.68,62.51,63.09,75.55,72.96,79.76,99.86] ##Manually collected data from website\n",
    "\n",
    "pp = pd.DataFrame(sell,columns={'selling price(Rs.)'})\n"
   ]
  },
  {
   "cell_type": "code",
   "execution_count": 46,
   "metadata": {
    "colab": {
     "base_uri": "https://localhost:8080/",
     "height": 363
    },
    "executionInfo": {
     "elapsed": 30,
     "status": "ok",
     "timestamp": 1637343506219,
     "user": {
      "displayName": "DATA MIMING",
      "photoUrl": "https://lh3.googleusercontent.com/a/default-user=s64",
      "userId": "13943601287099034839"
     },
     "user_tz": -330
    },
    "id": "Qcv1CK0tHlEl",
    "outputId": "f7de0638-b2d2-451d-f961-89f4b7cbc76d"
   },
   "outputs": [
    {
     "data": {
      "text/html": [
       "<div>\n",
       "<style scoped>\n",
       "    .dataframe tbody tr th:only-of-type {\n",
       "        vertical-align: middle;\n",
       "    }\n",
       "\n",
       "    .dataframe tbody tr th {\n",
       "        vertical-align: top;\n",
       "    }\n",
       "\n",
       "    .dataframe thead th {\n",
       "        text-align: right;\n",
       "    }\n",
       "</style>\n",
       "<table border=\"1\" class=\"dataframe\">\n",
       "  <thead>\n",
       "    <tr style=\"text-align: right;\">\n",
       "      <th></th>\n",
       "      <th>import yrly(Rs./bbl)</th>\n",
       "    </tr>\n",
       "  </thead>\n",
       "  <tbody>\n",
       "    <tr>\n",
       "      <th>0</th>\n",
       "      <td>5271.916667</td>\n",
       "    </tr>\n",
       "    <tr>\n",
       "      <th>1</th>\n",
       "      <td>5918.833333</td>\n",
       "    </tr>\n",
       "    <tr>\n",
       "      <th>2</th>\n",
       "      <td>6334.416667</td>\n",
       "    </tr>\n",
       "    <tr>\n",
       "      <th>3</th>\n",
       "      <td>5341.000000</td>\n",
       "    </tr>\n",
       "    <tr>\n",
       "      <th>4</th>\n",
       "      <td>3035.250000</td>\n",
       "    </tr>\n",
       "    <tr>\n",
       "      <th>5</th>\n",
       "      <td>3142.583333</td>\n",
       "    </tr>\n",
       "    <tr>\n",
       "      <th>6</th>\n",
       "      <td>3558.750000</td>\n",
       "    </tr>\n",
       "    <tr>\n",
       "      <th>7</th>\n",
       "      <td>4828.166667</td>\n",
       "    </tr>\n",
       "    <tr>\n",
       "      <th>8</th>\n",
       "      <td>4479.166667</td>\n",
       "    </tr>\n",
       "    <tr>\n",
       "      <th>9</th>\n",
       "      <td>3089.750000</td>\n",
       "    </tr>\n",
       "  </tbody>\n",
       "</table>\n",
       "</div>"
      ],
      "text/plain": [
       "   import yrly(Rs./bbl)\n",
       "0           5271.916667\n",
       "1           5918.833333\n",
       "2           6334.416667\n",
       "3           5341.000000\n",
       "4           3035.250000\n",
       "5           3142.583333\n",
       "6           3558.750000\n",
       "7           4828.166667\n",
       "8           4479.166667\n",
       "9           3089.750000"
      ]
     },
     "execution_count": 46,
     "metadata": {},
     "output_type": "execute_result"
    }
   ],
   "source": [
    "op"
   ]
  },
  {
   "cell_type": "markdown",
   "metadata": {
    "id": "Y1gxUo1h4ET-"
   },
   "source": [
    "**Prediction Model for oil selling price(Rs.) given oil import price(Rs./bbl)**"
   ]
  },
  {
   "cell_type": "code",
   "execution_count": 47,
   "metadata": {
    "colab": {
     "base_uri": "https://localhost:8080/"
    },
    "executionInfo": {
     "elapsed": 30,
     "status": "ok",
     "timestamp": 1637343506220,
     "user": {
      "displayName": "DATA MIMING",
      "photoUrl": "https://lh3.googleusercontent.com/a/default-user=s64",
      "userId": "13943601287099034839"
     },
     "user_tz": -330
    },
    "id": "ULTcwraU4LKn",
    "outputId": "a60d65ec-699b-4e28-e4ca-b9034533a591"
   },
   "outputs": [
    {
     "data": {
      "text/plain": [
       "LinearRegression()"
      ]
     },
     "execution_count": 47,
     "metadata": {},
     "output_type": "execute_result"
    }
   ],
   "source": [
    "# Separating input and output variable\n",
    "x = op['import yrly(Rs./bbl)']\n",
    "y = pp['selling price(Rs.)']\n",
    "x1 = x.values.reshape(-1,1)\n",
    "y1 = y.values.reshape(-1,1)\n",
    "\n",
    "# Spliting data into train test data\n",
    "x_train, x_test, y_train, y_test = train_test_split(x1, y1, test_size=0.1)\n",
    "regressor = linear_model.LinearRegression()\n",
    "regressor.fit(x_train, y_train)"
   ]
  },
  {
   "cell_type": "code",
   "execution_count": 48,
   "metadata": {
    "colab": {
     "base_uri": "https://localhost:8080/"
    },
    "executionInfo": {
     "elapsed": 27,
     "status": "ok",
     "timestamp": 1637343506220,
     "user": {
      "displayName": "DATA MIMING",
      "photoUrl": "https://lh3.googleusercontent.com/a/default-user=s64",
      "userId": "13943601287099034839"
     },
     "user_tz": -330
    },
    "id": "EoW_hbzZ4U2V",
    "outputId": "2d31000d-7c58-4917-fcc2-5aded58e2989"
   },
   "outputs": [
    {
     "data": {
      "text/plain": [
       "10.94450143197963"
      ]
     },
     "execution_count": 48,
     "metadata": {},
     "output_type": "execute_result"
    }
   ],
   "source": [
    "y_pred_train = regressor.predict(x_train)\n",
    "y_intercept = regressor.intercept_\n",
    "coe = regressor.coef_[[0]]\n",
    "np.sqrt(mean_squared_error(y_train, y_pred_train))"
   ]
  },
  {
   "cell_type": "code",
   "execution_count": 49,
   "metadata": {
    "colab": {
     "base_uri": "https://localhost:8080/"
    },
    "executionInfo": {
     "elapsed": 26,
     "status": "ok",
     "timestamp": 1637343506220,
     "user": {
      "displayName": "DATA MIMING",
      "photoUrl": "https://lh3.googleusercontent.com/a/default-user=s64",
      "userId": "13943601287099034839"
     },
     "user_tz": -330
    },
    "id": "kzMNGLLJ4aU5",
    "outputId": "d979deff-3d60-402a-f57d-e6d52e8920b9"
   },
   "outputs": [
    {
     "data": {
      "text/plain": [
       "array([[72.72286983]])"
      ]
     },
     "execution_count": 49,
     "metadata": {},
     "output_type": "execute_result"
    }
   ],
   "source": [
    "## Predicting the Oil selling price(Rs./litre) given the oil import price (Rs./In Barrels)\n",
    "y_pred = regressor.predict([[4000]])\n",
    "y_pred"
   ]
  },
  {
   "cell_type": "code",
   "execution_count": 50,
   "metadata": {
    "colab": {
     "base_uri": "https://localhost:8080/",
     "height": 279
    },
    "executionInfo": {
     "elapsed": 23,
     "status": "ok",
     "timestamp": 1637343506220,
     "user": {
      "displayName": "DATA MIMING",
      "photoUrl": "https://lh3.googleusercontent.com/a/default-user=s64",
      "userId": "13943601287099034839"
     },
     "user_tz": -330
    },
    "id": "igKSGGKG4t5P",
    "outputId": "050d2911-da62-4f38-ba5a-998a9446ab1e"
   },
   "outputs": [
    {
     "data": {
      "image/png": "[encoded data removed]",
      "text/plain": [
       "<Figure size 432x288 with 1 Axes>"
      ]
     },
     "metadata": {
      "needs_background": "light"
     },
     "output_type": "display_data"
    }
   ],
   "source": [
    "plt.scatter(x,y)\n",
    "y = coe[0][0] * x + y_intercept[0]\n",
    "plt.plot(x, y, color='red',)\n",
    "plt.xlabel('Oil Import (Rs./bbl)')\n",
    "plt.ylabel('Oil price per barrel(Rs./litre)')\n",
    "plt.show()"
   ]
  },
  {
   "cell_type": "markdown",
   "metadata": {
    "id": "kRXwNrfH5Ogc"
   },
   "source": [
    "### **Monetary impact of EVs on Indian Economy**"
   ]
  },
  {
   "cell_type": "code",
   "execution_count": 51,
   "metadata": {
    "colab": {
     "base_uri": "https://localhost:8080/",
     "height": 206
    },
    "executionInfo": {
     "elapsed": 23,
     "status": "ok",
     "timestamp": 1637343506221,
     "user": {
      "displayName": "DATA MIMING",
      "photoUrl": "https://lh3.googleusercontent.com/a/default-user=s64",
      "userId": "13943601287099034839"
     },
     "user_tz": -330
    },
    "id": "po9G_HhF5kvp",
    "outputId": "737e5018-96c2-4dd7-94d2-21eba2602334"
   },
   "outputs": [
    {
     "data": {
      "text/html": [
       "<div>\n",
       "<style scoped>\n",
       "    .dataframe tbody tr th:only-of-type {\n",
       "        vertical-align: middle;\n",
       "    }\n",
       "\n",
       "    .dataframe tbody tr th {\n",
       "        vertical-align: top;\n",
       "    }\n",
       "\n",
       "    .dataframe thead th {\n",
       "        text-align: right;\n",
       "    }\n",
       "</style>\n",
       "<table border=\"1\" class=\"dataframe\">\n",
       "  <thead>\n",
       "    <tr style=\"text-align: right;\">\n",
       "      <th></th>\n",
       "      <th>Year</th>\n",
       "      <th>electricity price(Rs/kWh)</th>\n",
       "    </tr>\n",
       "  </thead>\n",
       "  <tbody>\n",
       "    <tr>\n",
       "      <th>6</th>\n",
       "      <td>2015</td>\n",
       "      <td>5.21</td>\n",
       "    </tr>\n",
       "    <tr>\n",
       "      <th>7</th>\n",
       "      <td>2016</td>\n",
       "      <td>5.43</td>\n",
       "    </tr>\n",
       "    <tr>\n",
       "      <th>8</th>\n",
       "      <td>2017</td>\n",
       "      <td>5.48</td>\n",
       "    </tr>\n",
       "    <tr>\n",
       "      <th>9</th>\n",
       "      <td>2018</td>\n",
       "      <td>5.60</td>\n",
       "    </tr>\n",
       "    <tr>\n",
       "      <th>10</th>\n",
       "      <td>2019</td>\n",
       "      <td>6.09</td>\n",
       "    </tr>\n",
       "  </tbody>\n",
       "</table>\n",
       "</div>"
      ],
      "text/plain": [
       "    Year  electricity price(Rs/kWh)\n",
       "6   2015                       5.21\n",
       "7   2016                       5.43\n",
       "8   2017                       5.48\n",
       "9   2018                       5.60\n",
       "10  2019                       6.09"
      ]
     },
     "execution_count": 51,
     "metadata": {},
     "output_type": "execute_result"
    }
   ],
   "source": [
    "elect_price_df = pd.read_excel('../Data sets/Electricity price in india/electricity-price-in-india.xlsx')\n",
    "elect_price_df.tail()"
   ]
  },
  {
   "cell_type": "code",
   "execution_count": 52,
   "metadata": {
    "colab": {
     "base_uri": "https://localhost:8080/",
     "height": 366
    },
    "executionInfo": {
     "elapsed": 1133,
     "status": "ok",
     "timestamp": 1637343507332,
     "user": {
      "displayName": "DATA MIMING",
      "photoUrl": "https://lh3.googleusercontent.com/a/default-user=s64",
      "userId": "13943601287099034839"
     },
     "user_tz": -330
    },
    "id": "nR3ru1cp5aRp",
    "outputId": "04a0ba82-de08-48c5-a8cb-25ea910a5403"
   },
   "outputs": [
    {
     "name": "stdout",
     "output_type": "stream",
     "text": [
      "Root Mean Squared Error: 0.22861404192502618\n",
      "\n",
      "R2 Score: 0.9257998470000632\n",
      "\n",
      "\n"
     ]
    },
    {
     "data": {
      "image/png": "[encoded data removed]",
      "text/plain": [
       "<Figure size 432x288 with 1 Axes>"
      ]
     },
     "metadata": {
      "needs_background": "light"
     },
     "output_type": "display_data"
    }
   ],
   "source": [
    "x = elect_price_df[['Year']].values\n",
    "y = elect_price_df[['electricity price(Rs/kWh)']].values\n",
    "\n",
    "regressorEP = linear_model.LinearRegression()\n",
    "regressorEP.fit(x,y)\n",
    "y_pred = regressorEP.predict(x)\n",
    "y_intercept = regressorEP.intercept_\n",
    "coe = regressorEP.coef_[[0]]\n",
    "print('Root Mean Squared Error: '+ str(np.sqrt(mean_squared_error(y,y_pred))) + '\\n')\n",
    "print('R2 Score: ' + str(r2_score(y,y_pred)) + '\\n\\n')\n",
    "\n",
    "plt.scatter(x, y)\n",
    "y = coe * x + y_intercept\n",
    "plt.xlabel('months')\n",
    "plt.ylabel('No. of EV')\n",
    "plt.plot(x,y,color='r')\n",
    "plt.show()"
   ]
  },
  {
   "cell_type": "code",
   "execution_count": 53,
   "metadata": {
    "colab": {
     "base_uri": "https://localhost:8080/",
     "height": 206
    },
    "executionInfo": {
     "elapsed": 26,
     "status": "ok",
     "timestamp": 1637343507333,
     "user": {
      "displayName": "DATA MIMING",
      "photoUrl": "https://lh3.googleusercontent.com/a/default-user=s64",
      "userId": "13943601287099034839"
     },
     "user_tz": -330
    },
    "id": "B8JM0fBh7mOI",
    "outputId": "eced997d-8222-4152-e699-63b074106769"
   },
   "outputs": [
    {
     "data": {
      "text/html": [
       "<div>\n",
       "<style scoped>\n",
       "    .dataframe tbody tr th:only-of-type {\n",
       "        vertical-align: middle;\n",
       "    }\n",
       "\n",
       "    .dataframe tbody tr th {\n",
       "        vertical-align: top;\n",
       "    }\n",
       "\n",
       "    .dataframe thead th {\n",
       "        text-align: right;\n",
       "    }\n",
       "</style>\n",
       "<table border=\"1\" class=\"dataframe\">\n",
       "  <thead>\n",
       "    <tr style=\"text-align: right;\">\n",
       "      <th></th>\n",
       "      <th>Year</th>\n",
       "      <th>electricity price(Rs/kWh)</th>\n",
       "    </tr>\n",
       "  </thead>\n",
       "  <tbody>\n",
       "    <tr>\n",
       "      <th>17</th>\n",
       "      <td>2026</td>\n",
       "      <td>7.929</td>\n",
       "    </tr>\n",
       "    <tr>\n",
       "      <th>18</th>\n",
       "      <td>2027</td>\n",
       "      <td>8.184</td>\n",
       "    </tr>\n",
       "    <tr>\n",
       "      <th>19</th>\n",
       "      <td>2028</td>\n",
       "      <td>8.440</td>\n",
       "    </tr>\n",
       "    <tr>\n",
       "      <th>20</th>\n",
       "      <td>2029</td>\n",
       "      <td>8.695</td>\n",
       "    </tr>\n",
       "    <tr>\n",
       "      <th>21</th>\n",
       "      <td>2030</td>\n",
       "      <td>8.950</td>\n",
       "    </tr>\n",
       "  </tbody>\n",
       "</table>\n",
       "</div>"
      ],
      "text/plain": [
       "    Year  electricity price(Rs/kWh)\n",
       "17  2026                      7.929\n",
       "18  2027                      8.184\n",
       "19  2028                      8.440\n",
       "20  2029                      8.695\n",
       "21  2030                      8.950"
      ]
     },
     "execution_count": 53,
     "metadata": {},
     "output_type": "execute_result"
    }
   ],
   "source": [
    "# Predicting electricity price from 2020 to 2030\n",
    "x_future = []\n",
    "for i in range(2020,2031,1):\n",
    "  x_future.append([i])\n",
    "y_pred_future = (regressorEP.predict(x_future))\n",
    "j=0\n",
    "for i in range(2020,2031,1):\n",
    "  elect_price_df.loc[len(elect_price_df.index)] =[i, round(y_pred_future[j][0],3)]\n",
    "  j += 1\n",
    "elect_price_df['Year'] = elect_price_df['Year'].astype(int)\n",
    "elect_price_df.tail()"
   ]
  },
  {
   "cell_type": "code",
   "execution_count": 54,
   "metadata": {
    "colab": {
     "base_uri": "https://localhost:8080/",
     "height": 366
    },
    "executionInfo": {
     "elapsed": 24,
     "status": "ok",
     "timestamp": 1637343507333,
     "user": {
      "displayName": "DATA MIMING",
      "photoUrl": "https://lh3.googleusercontent.com/a/default-user=s64",
      "userId": "13943601287099034839"
     },
     "user_tz": -330
    },
    "id": "6eQsfRwxAmae",
    "outputId": "7effa279-dc72-4fde-e146-7424be67677e"
   },
   "outputs": [
    {
     "data": {
      "text/html": [
       "<div>\n",
       "<style scoped>\n",
       "    .dataframe tbody tr th:only-of-type {\n",
       "        vertical-align: middle;\n",
       "    }\n",
       "\n",
       "    .dataframe tbody tr th {\n",
       "        vertical-align: top;\n",
       "    }\n",
       "\n",
       "    .dataframe thead th {\n",
       "        text-align: right;\n",
       "    }\n",
       "</style>\n",
       "<table border=\"1\" class=\"dataframe\">\n",
       "  <thead>\n",
       "    <tr style=\"text-align: right;\">\n",
       "      <th></th>\n",
       "      <th>Year</th>\n",
       "      <th>Total vehicles</th>\n",
       "      <th>No of EV</th>\n",
       "      <th>EV market share (selling percent yearwise)</th>\n",
       "      <th>Total vehicles oil consump (in Mb)</th>\n",
       "      <th>oil consump reduced bcoz of EV (in Mb)</th>\n",
       "      <th>electricity required (kWh)</th>\n",
       "      <th>Resulting Consumption</th>\n",
       "      <th>electricity price(Rs/kWh)</th>\n",
       "      <th>electricity cost of EV(Cr)</th>\n",
       "    </tr>\n",
       "  </thead>\n",
       "  <tbody>\n",
       "    <tr>\n",
       "      <th>0</th>\n",
       "      <td>2022</td>\n",
       "      <td>25902352</td>\n",
       "      <td>571780</td>\n",
       "      <td>2.207444</td>\n",
       "      <td>986.98971</td>\n",
       "      <td>21.787260</td>\n",
       "      <td>4.118092e+09</td>\n",
       "      <td>965.20245</td>\n",
       "      <td>6.907</td>\n",
       "      <td>2844.366348</td>\n",
       "    </tr>\n",
       "    <tr>\n",
       "      <th>1</th>\n",
       "      <td>2023</td>\n",
       "      <td>27144604</td>\n",
       "      <td>849822</td>\n",
       "      <td>3.130722</td>\n",
       "      <td>1034.324792</td>\n",
       "      <td>32.381843</td>\n",
       "      <td>6.120615e+09</td>\n",
       "      <td>1001.942949</td>\n",
       "      <td>7.163</td>\n",
       "      <td>4384.196757</td>\n",
       "    </tr>\n",
       "    <tr>\n",
       "      <th>2</th>\n",
       "      <td>2024</td>\n",
       "      <td>28446433</td>\n",
       "      <td>1263069</td>\n",
       "      <td>4.440167</td>\n",
       "      <td>1083.93001</td>\n",
       "      <td>48.128299</td>\n",
       "      <td>9.096916e+09</td>\n",
       "      <td>1035.801711</td>\n",
       "      <td>7.418</td>\n",
       "      <td>6748.092400</td>\n",
       "    </tr>\n",
       "    <tr>\n",
       "      <th>3</th>\n",
       "      <td>2025</td>\n",
       "      <td>29810697</td>\n",
       "      <td>1877267</td>\n",
       "      <td>6.297293</td>\n",
       "      <td>1135.914267</td>\n",
       "      <td>71.531851</td>\n",
       "      <td>1.352051e+10</td>\n",
       "      <td>1064.382416</td>\n",
       "      <td>7.674</td>\n",
       "      <td>10375.641468</td>\n",
       "    </tr>\n",
       "    <tr>\n",
       "      <th>4</th>\n",
       "      <td>2026</td>\n",
       "      <td>31240389</td>\n",
       "      <td>2790134</td>\n",
       "      <td>8.931176</td>\n",
       "      <td>1190.391609</td>\n",
       "      <td>106.315947</td>\n",
       "      <td>2.009519e+10</td>\n",
       "      <td>1084.075662</td>\n",
       "      <td>7.929</td>\n",
       "      <td>15933.478353</td>\n",
       "    </tr>\n",
       "    <tr>\n",
       "      <th>5</th>\n",
       "      <td>2027</td>\n",
       "      <td>32738648</td>\n",
       "      <td>4146904</td>\n",
       "      <td>12.666693</td>\n",
       "      <td>1247.481646</td>\n",
       "      <td>158.014653</td>\n",
       "      <td>2.986697e+10</td>\n",
       "      <td>1089.466993</td>\n",
       "      <td>8.184</td>\n",
       "      <td>24443.124387</td>\n",
       "    </tr>\n",
       "    <tr>\n",
       "      <th>6</th>\n",
       "      <td>2028</td>\n",
       "      <td>34308762</td>\n",
       "      <td>6163436</td>\n",
       "      <td>17.964612</td>\n",
       "      <td>1307.309663</td>\n",
       "      <td>234.853109</td>\n",
       "      <td>4.439050e+10</td>\n",
       "      <td>1072.456554</td>\n",
       "      <td>8.440</td>\n",
       "      <td>37465.579358</td>\n",
       "    </tr>\n",
       "    <tr>\n",
       "      <th>7</th>\n",
       "      <td>2029</td>\n",
       "      <td>35954177</td>\n",
       "      <td>9160556</td>\n",
       "      <td>25.478419</td>\n",
       "      <td>1370.006968</td>\n",
       "      <td>349.056125</td>\n",
       "      <td>6.597645e+10</td>\n",
       "      <td>1020.950843</td>\n",
       "      <td>8.695</td>\n",
       "      <td>57366.524031</td>\n",
       "    </tr>\n",
       "    <tr>\n",
       "      <th>8</th>\n",
       "      <td>2030</td>\n",
       "      <td>37678505</td>\n",
       "      <td>13615099</td>\n",
       "      <td>36.134924</td>\n",
       "      <td>1435.711194</td>\n",
       "      <td>518.793127</td>\n",
       "      <td>9.805910e+10</td>\n",
       "      <td>916.918067</td>\n",
       "      <td>8.950</td>\n",
       "      <td>87762.897763</td>\n",
       "    </tr>\n",
       "  </tbody>\n",
       "</table>\n",
       "</div>"
      ],
      "text/plain": [
       "   Year Total vehicles  No of EV EV market share (selling percent yearwise)  \\\n",
       "0  2022       25902352    571780                                   2.207444   \n",
       "1  2023       27144604    849822                                   3.130722   \n",
       "2  2024       28446433   1263069                                   4.440167   \n",
       "3  2025       29810697   1877267                                   6.297293   \n",
       "4  2026       31240389   2790134                                   8.931176   \n",
       "5  2027       32738648   4146904                                  12.666693   \n",
       "6  2028       34308762   6163436                                  17.964612   \n",
       "7  2029       35954177   9160556                                  25.478419   \n",
       "8  2030       37678505  13615099                                  36.134924   \n",
       "\n",
       "  Total vehicles oil consump (in Mb)  oil consump reduced bcoz of EV (in Mb)  \\\n",
       "0                          986.98971                               21.787260   \n",
       "1                        1034.324792                               32.381843   \n",
       "2                         1083.93001                               48.128299   \n",
       "3                        1135.914267                               71.531851   \n",
       "4                        1190.391609                              106.315947   \n",
       "5                        1247.481646                              158.014653   \n",
       "6                        1307.309663                              234.853109   \n",
       "7                        1370.006968                              349.056125   \n",
       "8                        1435.711194                              518.793127   \n",
       "\n",
       "   electricity required (kWh) Resulting Consumption  \\\n",
       "0                4.118092e+09             965.20245   \n",
       "1                6.120615e+09           1001.942949   \n",
       "2                9.096916e+09           1035.801711   \n",
       "3                1.352051e+10           1064.382416   \n",
       "4                2.009519e+10           1084.075662   \n",
       "5                2.986697e+10           1089.466993   \n",
       "6                4.439050e+10           1072.456554   \n",
       "7                6.597645e+10           1020.950843   \n",
       "8                9.805910e+10            916.918067   \n",
       "\n",
       "   electricity price(Rs/kWh)  electricity cost of EV(Cr)  \n",
       "0                      6.907                 2844.366348  \n",
       "1                      7.163                 4384.196757  \n",
       "2                      7.418                 6748.092400  \n",
       "3                      7.674                10375.641468  \n",
       "4                      7.929                15933.478353  \n",
       "5                      8.184                24443.124387  \n",
       "6                      8.440                37465.579358  \n",
       "7                      8.695                57366.524031  \n",
       "8                      8.950                87762.897763  "
      ]
     },
     "execution_count": 54,
     "metadata": {},
     "output_type": "execute_result"
    }
   ],
   "source": [
    "tempDf = elect_price_df.iloc[13:,1:].reset_index(drop=True)\n",
    "future_ev_df['electricity price(Rs/kWh)'] = tempDf['electricity price(Rs/kWh)']\n",
    "future_ev_df['electricity cost of EV(Cr)'] = future_ev_df['electricity required (kWh)'] * future_ev_df['electricity price(Rs/kWh)'] /10000000\n",
    "future_ev_df"
   ]
  },
  {
   "cell_type": "code",
   "execution_count": 55,
   "metadata": {
    "colab": {
     "base_uri": "https://localhost:8080/",
     "height": 401
    },
    "executionInfo": {
     "elapsed": 23,
     "status": "ok",
     "timestamp": 1637343507333,
     "user": {
      "displayName": "DATA MIMING",
      "photoUrl": "https://lh3.googleusercontent.com/a/default-user=s64",
      "userId": "13943601287099034839"
     },
     "user_tz": -330
    },
    "id": "gwVEVMgOENJs",
    "outputId": "5c5995bd-5f27-41af-c2c5-163192d05da9"
   },
   "outputs": [
    {
     "data": {
      "text/html": [
       "<div>\n",
       "<style scoped>\n",
       "    .dataframe tbody tr th:only-of-type {\n",
       "        vertical-align: middle;\n",
       "    }\n",
       "\n",
       "    .dataframe tbody tr th {\n",
       "        vertical-align: top;\n",
       "    }\n",
       "\n",
       "    .dataframe thead th {\n",
       "        text-align: right;\n",
       "    }\n",
       "</style>\n",
       "<table border=\"1\" class=\"dataframe\">\n",
       "  <thead>\n",
       "    <tr style=\"text-align: right;\">\n",
       "      <th></th>\n",
       "      <th>Year</th>\n",
       "      <th>Total vehicles</th>\n",
       "      <th>No of EV</th>\n",
       "      <th>EV market share (selling percent yearwise)</th>\n",
       "      <th>Total vehicles oil consump (in Mb)</th>\n",
       "      <th>oil consump reduced bcoz of EV (in Mb)</th>\n",
       "      <th>electricity required (kWh)</th>\n",
       "      <th>Resulting Consumption</th>\n",
       "      <th>electricity price(Rs/kWh)</th>\n",
       "      <th>electricity cost of EV(Cr)</th>\n",
       "      <th>Oil cost saved bcoz of EV(Cr)</th>\n",
       "      <th>Effective money saved bcoz of EV introduction(Cr)</th>\n",
       "    </tr>\n",
       "  </thead>\n",
       "  <tbody>\n",
       "    <tr>\n",
       "      <th>0</th>\n",
       "      <td>2022</td>\n",
       "      <td>25902352</td>\n",
       "      <td>571780</td>\n",
       "      <td>2.207444</td>\n",
       "      <td>986.98971</td>\n",
       "      <td>21.787260</td>\n",
       "      <td>4.118092e+09</td>\n",
       "      <td>965.20245</td>\n",
       "      <td>6.907</td>\n",
       "      <td>2844.366348</td>\n",
       "      <td>10389.615727</td>\n",
       "      <td>7545.249379</td>\n",
       "    </tr>\n",
       "    <tr>\n",
       "      <th>1</th>\n",
       "      <td>2023</td>\n",
       "      <td>27144604</td>\n",
       "      <td>849822</td>\n",
       "      <td>3.130722</td>\n",
       "      <td>1034.324792</td>\n",
       "      <td>32.381843</td>\n",
       "      <td>6.120615e+09</td>\n",
       "      <td>1001.942949</td>\n",
       "      <td>7.163</td>\n",
       "      <td>4384.196757</td>\n",
       "      <td>14994.967415</td>\n",
       "      <td>10610.770658</td>\n",
       "    </tr>\n",
       "    <tr>\n",
       "      <th>2</th>\n",
       "      <td>2024</td>\n",
       "      <td>28446433</td>\n",
       "      <td>1263069</td>\n",
       "      <td>4.440167</td>\n",
       "      <td>1083.93001</td>\n",
       "      <td>48.128299</td>\n",
       "      <td>9.096916e+09</td>\n",
       "      <td>1035.801711</td>\n",
       "      <td>7.418</td>\n",
       "      <td>6748.092400</td>\n",
       "      <td>21674.583067</td>\n",
       "      <td>14926.490667</td>\n",
       "    </tr>\n",
       "    <tr>\n",
       "      <th>3</th>\n",
       "      <td>2025</td>\n",
       "      <td>29810697</td>\n",
       "      <td>1877267</td>\n",
       "      <td>6.297293</td>\n",
       "      <td>1135.914267</td>\n",
       "      <td>71.531851</td>\n",
       "      <td>1.352051e+10</td>\n",
       "      <td>1064.382416</td>\n",
       "      <td>7.674</td>\n",
       "      <td>10375.641468</td>\n",
       "      <td>31446.503579</td>\n",
       "      <td>21070.862112</td>\n",
       "    </tr>\n",
       "    <tr>\n",
       "      <th>4</th>\n",
       "      <td>2026</td>\n",
       "      <td>31240389</td>\n",
       "      <td>2790134</td>\n",
       "      <td>8.931176</td>\n",
       "      <td>1190.391609</td>\n",
       "      <td>106.315947</td>\n",
       "      <td>2.009519e+10</td>\n",
       "      <td>1084.075662</td>\n",
       "      <td>7.929</td>\n",
       "      <td>15933.478353</td>\n",
       "      <td>45951.749699</td>\n",
       "      <td>30018.271346</td>\n",
       "    </tr>\n",
       "    <tr>\n",
       "      <th>5</th>\n",
       "      <td>2027</td>\n",
       "      <td>32738648</td>\n",
       "      <td>4146904</td>\n",
       "      <td>12.666693</td>\n",
       "      <td>1247.481646</td>\n",
       "      <td>158.014653</td>\n",
       "      <td>2.986697e+10</td>\n",
       "      <td>1089.466993</td>\n",
       "      <td>8.184</td>\n",
       "      <td>24443.124387</td>\n",
       "      <td>67976.931838</td>\n",
       "      <td>43533.807452</td>\n",
       "    </tr>\n",
       "    <tr>\n",
       "      <th>6</th>\n",
       "      <td>2028</td>\n",
       "      <td>34308762</td>\n",
       "      <td>6163436</td>\n",
       "      <td>17.964612</td>\n",
       "      <td>1307.309663</td>\n",
       "      <td>234.853109</td>\n",
       "      <td>4.439050e+10</td>\n",
       "      <td>1072.456554</td>\n",
       "      <td>8.440</td>\n",
       "      <td>37465.579358</td>\n",
       "      <td>102532.834084</td>\n",
       "      <td>65067.254726</td>\n",
       "    </tr>\n",
       "    <tr>\n",
       "      <th>7</th>\n",
       "      <td>2029</td>\n",
       "      <td>35954177</td>\n",
       "      <td>9160556</td>\n",
       "      <td>25.478419</td>\n",
       "      <td>1370.006968</td>\n",
       "      <td>349.056125</td>\n",
       "      <td>6.597645e+10</td>\n",
       "      <td>1020.950843</td>\n",
       "      <td>8.695</td>\n",
       "      <td>57366.524031</td>\n",
       "      <td>159144.438365</td>\n",
       "      <td>101777.914334</td>\n",
       "    </tr>\n",
       "    <tr>\n",
       "      <th>8</th>\n",
       "      <td>2030</td>\n",
       "      <td>37678505</td>\n",
       "      <td>13615099</td>\n",
       "      <td>36.134924</td>\n",
       "      <td>1435.711194</td>\n",
       "      <td>518.793127</td>\n",
       "      <td>9.805910e+10</td>\n",
       "      <td>916.918067</td>\n",
       "      <td>8.950</td>\n",
       "      <td>87762.897763</td>\n",
       "      <td>256803.513775</td>\n",
       "      <td>169040.616012</td>\n",
       "    </tr>\n",
       "  </tbody>\n",
       "</table>\n",
       "</div>"
      ],
      "text/plain": [
       "   Year Total vehicles  No of EV EV market share (selling percent yearwise)  \\\n",
       "0  2022       25902352    571780                                   2.207444   \n",
       "1  2023       27144604    849822                                   3.130722   \n",
       "2  2024       28446433   1263069                                   4.440167   \n",
       "3  2025       29810697   1877267                                   6.297293   \n",
       "4  2026       31240389   2790134                                   8.931176   \n",
       "5  2027       32738648   4146904                                  12.666693   \n",
       "6  2028       34308762   6163436                                  17.964612   \n",
       "7  2029       35954177   9160556                                  25.478419   \n",
       "8  2030       37678505  13615099                                  36.134924   \n",
       "\n",
       "  Total vehicles oil consump (in Mb)  oil consump reduced bcoz of EV (in Mb)  \\\n",
       "0                          986.98971                               21.787260   \n",
       "1                        1034.324792                               32.381843   \n",
       "2                         1083.93001                               48.128299   \n",
       "3                        1135.914267                               71.531851   \n",
       "4                        1190.391609                              106.315947   \n",
       "5                        1247.481646                              158.014653   \n",
       "6                        1307.309663                              234.853109   \n",
       "7                        1370.006968                              349.056125   \n",
       "8                        1435.711194                              518.793127   \n",
       "\n",
       "   electricity required (kWh) Resulting Consumption  \\\n",
       "0                4.118092e+09             965.20245   \n",
       "1                6.120615e+09           1001.942949   \n",
       "2                9.096916e+09           1035.801711   \n",
       "3                1.352051e+10           1064.382416   \n",
       "4                2.009519e+10           1084.075662   \n",
       "5                2.986697e+10           1089.466993   \n",
       "6                4.439050e+10           1072.456554   \n",
       "7                6.597645e+10           1020.950843   \n",
       "8                9.805910e+10            916.918067   \n",
       "\n",
       "   electricity price(Rs/kWh)  electricity cost of EV(Cr)  \\\n",
       "0                      6.907                 2844.366348   \n",
       "1                      7.163                 4384.196757   \n",
       "2                      7.418                 6748.092400   \n",
       "3                      7.674                10375.641468   \n",
       "4                      7.929                15933.478353   \n",
       "5                      8.184                24443.124387   \n",
       "6                      8.440                37465.579358   \n",
       "7                      8.695                57366.524031   \n",
       "8                      8.950                87762.897763   \n",
       "\n",
       "   Oil cost saved bcoz of EV(Cr)  \\\n",
       "0                   10389.615727   \n",
       "1                   14994.967415   \n",
       "2                   21674.583067   \n",
       "3                   31446.503579   \n",
       "4                   45951.749699   \n",
       "5                   67976.931838   \n",
       "6                  102532.834084   \n",
       "7                  159144.438365   \n",
       "8                  256803.513775   \n",
       "\n",
       "   Effective money saved bcoz of EV introduction(Cr)  \n",
       "0                                        7545.249379  \n",
       "1                                       10610.770658  \n",
       "2                                       14926.490667  \n",
       "3                                       21070.862112  \n",
       "4                                       30018.271346  \n",
       "5                                       43533.807452  \n",
       "6                                       65067.254726  \n",
       "7                                      101777.914334  \n",
       "8                                      169040.616012  "
      ]
     },
     "execution_count": 55,
     "metadata": {},
     "output_type": "execute_result"
    }
   ],
   "source": [
    "ff_df = pd.DataFrame(columns=['Oil cost saved bcoz of EV(Cr)'])\n",
    "k = 0\n",
    "oilConsumList = future_ev_df['oil consump reduced bcoz of EV (in Mb)'].tolist()\n",
    "for p in ff:\n",
    "  ff_df.loc[len(ff_df.index)] = future_ev_df.iloc[k]['oil consump reduced bcoz of EV (in Mb)'] * p[0] / 10       #1M/1Cr=10\n",
    "  k += 1\n",
    "future_ev_df = pd.concat([future_ev_df,ff_df], axis=1)\n",
    "future_ev_df['Effective money saved bcoz of EV introduction(Cr)'] = future_ev_df['Oil cost saved bcoz of EV(Cr)'] - future_ev_df['electricity cost of EV(Cr)']\n",
    "future_ev_df"
   ]
  },
  {
   "cell_type": "code",
   "execution_count": 56,
   "metadata": {
    "colab": {
     "base_uri": "https://localhost:8080/"
    },
    "executionInfo": {
     "elapsed": 22,
     "status": "ok",
     "timestamp": 1637343507333,
     "user": {
      "displayName": "DATA MIMING",
      "photoUrl": "https://lh3.googleusercontent.com/a/default-user=s64",
      "userId": "13943601287099034839"
     },
     "user_tz": -330
    },
    "id": "SuApkO7sH8r2",
    "outputId": "f09e9857-df1c-4589-b468-53ab7b41e198"
   },
   "outputs": [
    {
     "name": "stdout",
     "output_type": "stream",
     "text": [
      "Total money saved by 2030:  463591.237  Cr\n"
     ]
    }
   ],
   "source": [
    "print('Total money saved by 2030: ',round(future_ev_df['Effective money saved bcoz of EV introduction(Cr)'].sum(),3),' Cr')"
   ]
  },
  {
   "cell_type": "code",
   "execution_count": 57,
   "metadata": {
    "colab": {
     "base_uri": "https://localhost:8080/",
     "height": 388
    },
    "executionInfo": {
     "elapsed": 20,
     "status": "ok",
     "timestamp": 1637343507334,
     "user": {
      "displayName": "DATA MIMING",
      "photoUrl": "https://lh3.googleusercontent.com/a/default-user=s64",
      "userId": "13943601287099034839"
     },
     "user_tz": -330
    },
    "id": "h3IK477HLEw6",
    "outputId": "9e96c2a7-15b4-4ce5-b18c-17045bdfe01a"
   },
   "outputs": [
    {
     "data": {
      "image/png": "[encoded data removed]",
      "text/plain": [
       "<Figure size 720x432 with 1 Axes>"
      ]
     },
     "metadata": {
      "needs_background": "light"
     },
     "output_type": "display_data"
    }
   ],
   "source": [
    "# Plotting graph shows Effective money saved bcoz of EV introduction year wise\n",
    "plt.figure(figsize=(10,6))\n",
    "plt.plot(future_ev_df['Year'], future_ev_df['Oil cost saved bcoz of EV(Cr)'],'r',label='Oil cost saved bcoz of EV(Cr)')\n",
    "plt.plot(future_ev_df['Year'], future_ev_df['electricity cost of EV(Cr)'],'blue',label='Electricity cost of EV(Cr)')\n",
    "plt.plot(future_ev_df['Year'], future_ev_df['Effective money saved bcoz of EV introduction(Cr)'],'g',label='Effective money saved bcoz of EV introduction(Cr)')\n",
    "plt.xlabel('Year')\n",
    "plt.ylabel('Amount in Cr')\n",
    "plt.legend()\n",
    "plt.savefig('output/Effective money saved bcoz of EV introduction year wise.jpg')\n",
    "plt.show()"
   ]
  },
  {
   "cell_type": "code",
   "execution_count": 58,
   "metadata": {
    "executionInfo": {
     "elapsed": 426,
     "status": "ok",
     "timestamp": 1637343661566,
     "user": {
      "displayName": "DATA MIMING",
      "photoUrl": "https://lh3.googleusercontent.com/a/default-user=s64",
      "userId": "13943601287099034839"
     },
     "user_tz": -330
    },
    "id": "X4hxI5loR8Cm"
   },
   "outputs": [],
   "source": [
    "future_ev_df.to_csv('output/Study impact of electric vehicles on Indian economy (production).csv')"
   ]
  }
 ],
 "metadata": {
  "colab": {
   "collapsed_sections": [],
   "name": "Final.ipynb",
   "provenance": []
  },
  "kernelspec": {
   "display_name": "Python 3",
   "language": "python",
   "name": "python3"
  },
  "language_info": {
   "codemirror_mode": {
    "name": "ipython",
    "version": 3
   },
   "file_extension": ".py",
   "mimetype": "text/x-python",
   "name": "python",
   "nbconvert_exporter": "python",
   "pygments_lexer": "ipython3",
   "version": "3.8.8"
  }
 },
 "nbformat": 4,
 "nbformat_minor": 1
}
